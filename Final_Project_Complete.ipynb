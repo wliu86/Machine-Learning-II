{
 "cells": [
  {
   "cell_type": "markdown",
   "metadata": {},
   "source": [
    "## Use features and data about suppliers to predict whether products will go backorder."
   ]
  },
  {
   "cell_type": "markdown",
   "metadata": {},
   "source": [
    "### Content:<br/>\n",
    "<ul>\n",
    "    <li>Predicting and filling missing value<li/>\n",
    "    Exploratory Data Analysis<li/>\n",
    "    Oversampling unbalanced data<li/>\n",
    "    Training models, predicting, and model evaluation<li/>\n",
    "    Cost-Benefit Analysis\n",
    "</ul>\n",
    "    "
   ]
  },
  {
   "cell_type": "code",
   "execution_count": 43,
   "metadata": {
    "collapsed": true
   },
   "outputs": [],
   "source": [
    "#Load the two datasets: training and test\n",
    "import pandas as pd\n",
    "train_data = pd.read_csv(filepath_or_buffer = 'C:\\\\Users\\\\liuwe\\\\Google Drive\\\\Emory MSBA\\\\Machine Learning 2\\\\Final Project\\\\Kaggle_Training_Dataset_v2.csv'\n",
    "                        ,header = 0,low_memory=False)\n",
    "test_data = pd.read_csv(filepath_or_buffer = 'C:\\\\Users\\\\liuwe\\\\Google Drive\\\\Emory MSBA\\\\Machine Learning 2\\\\Final Project\\\\Kaggle_Test_Dataset_v2.csv'\n",
    "                        ,header = 0,low_memory=False)"
   ]
  },
  {
   "cell_type": "markdown",
   "metadata": {
    "collapsed": true
   },
   "source": [
    "drop sku, which is just a assigned number"
   ]
  },
  {
   "cell_type": "code",
   "execution_count": 44,
   "metadata": {
    "collapsed": true
   },
   "outputs": [],
   "source": [
    "train_data = train_data.drop(labels='sku',axis = 1)\n",
    "test_data = test_data.drop(labels='sku',axis = 1)"
   ]
  },
  {
   "cell_type": "markdown",
   "metadata": {},
   "source": [
    "## Deal with missing data"
   ]
  },
  {
   "cell_type": "code",
   "execution_count": 45,
   "metadata": {},
   "outputs": [
    {
     "data": {
      "text/html": [
       "<div>\n",
       "<style>\n",
       "    .dataframe thead tr:only-child th {\n",
       "        text-align: right;\n",
       "    }\n",
       "\n",
       "    .dataframe thead th {\n",
       "        text-align: left;\n",
       "    }\n",
       "\n",
       "    .dataframe tbody tr th {\n",
       "        vertical-align: top;\n",
       "    }\n",
       "</style>\n",
       "<table border=\"1\" class=\"dataframe\">\n",
       "  <thead>\n",
       "    <tr style=\"text-align: right;\">\n",
       "      <th></th>\n",
       "      <th>national_inv</th>\n",
       "      <th>lead_time</th>\n",
       "      <th>in_transit_qty</th>\n",
       "      <th>forecast_3_month</th>\n",
       "      <th>forecast_6_month</th>\n",
       "      <th>forecast_9_month</th>\n",
       "      <th>sales_1_month</th>\n",
       "      <th>sales_3_month</th>\n",
       "      <th>sales_6_month</th>\n",
       "      <th>sales_9_month</th>\n",
       "      <th>min_bank</th>\n",
       "      <th>pieces_past_due</th>\n",
       "      <th>perf_6_month_avg</th>\n",
       "      <th>perf_12_month_avg</th>\n",
       "      <th>local_bo_qty</th>\n",
       "    </tr>\n",
       "  </thead>\n",
       "  <tbody>\n",
       "    <tr>\n",
       "      <th>count</th>\n",
       "      <td>1.687860e+06</td>\n",
       "      <td>1.586967e+06</td>\n",
       "      <td>1.687860e+06</td>\n",
       "      <td>1.687860e+06</td>\n",
       "      <td>1.687860e+06</td>\n",
       "      <td>1.687860e+06</td>\n",
       "      <td>1.687860e+06</td>\n",
       "      <td>1.687860e+06</td>\n",
       "      <td>1.687860e+06</td>\n",
       "      <td>1.687860e+06</td>\n",
       "      <td>1.687860e+06</td>\n",
       "      <td>1.687860e+06</td>\n",
       "      <td>1.687860e+06</td>\n",
       "      <td>1.687860e+06</td>\n",
       "      <td>1.687860e+06</td>\n",
       "    </tr>\n",
       "    <tr>\n",
       "      <th>mean</th>\n",
       "      <td>4.961118e+02</td>\n",
       "      <td>7.872267e+00</td>\n",
       "      <td>4.405202e+01</td>\n",
       "      <td>1.781193e+02</td>\n",
       "      <td>3.449867e+02</td>\n",
       "      <td>5.063644e+02</td>\n",
       "      <td>5.592607e+01</td>\n",
       "      <td>1.750259e+02</td>\n",
       "      <td>3.417288e+02</td>\n",
       "      <td>5.252697e+02</td>\n",
       "      <td>5.277230e+01</td>\n",
       "      <td>2.043724e+00</td>\n",
       "      <td>-6.872059e+00</td>\n",
       "      <td>-6.437947e+00</td>\n",
       "      <td>6.264507e-01</td>\n",
       "    </tr>\n",
       "    <tr>\n",
       "      <th>std</th>\n",
       "      <td>2.961523e+04</td>\n",
       "      <td>7.056024e+00</td>\n",
       "      <td>1.342742e+03</td>\n",
       "      <td>5.026553e+03</td>\n",
       "      <td>9.795152e+03</td>\n",
       "      <td>1.437892e+04</td>\n",
       "      <td>1.928196e+03</td>\n",
       "      <td>5.192378e+03</td>\n",
       "      <td>9.613167e+03</td>\n",
       "      <td>1.483861e+04</td>\n",
       "      <td>1.254983e+03</td>\n",
       "      <td>2.360165e+02</td>\n",
       "      <td>2.655636e+01</td>\n",
       "      <td>2.584333e+01</td>\n",
       "      <td>3.372224e+01</td>\n",
       "    </tr>\n",
       "    <tr>\n",
       "      <th>min</th>\n",
       "      <td>-2.725600e+04</td>\n",
       "      <td>0.000000e+00</td>\n",
       "      <td>0.000000e+00</td>\n",
       "      <td>0.000000e+00</td>\n",
       "      <td>0.000000e+00</td>\n",
       "      <td>0.000000e+00</td>\n",
       "      <td>0.000000e+00</td>\n",
       "      <td>0.000000e+00</td>\n",
       "      <td>0.000000e+00</td>\n",
       "      <td>0.000000e+00</td>\n",
       "      <td>0.000000e+00</td>\n",
       "      <td>0.000000e+00</td>\n",
       "      <td>-9.900000e+01</td>\n",
       "      <td>-9.900000e+01</td>\n",
       "      <td>0.000000e+00</td>\n",
       "    </tr>\n",
       "    <tr>\n",
       "      <th>25%</th>\n",
       "      <td>4.000000e+00</td>\n",
       "      <td>4.000000e+00</td>\n",
       "      <td>0.000000e+00</td>\n",
       "      <td>0.000000e+00</td>\n",
       "      <td>0.000000e+00</td>\n",
       "      <td>0.000000e+00</td>\n",
       "      <td>0.000000e+00</td>\n",
       "      <td>0.000000e+00</td>\n",
       "      <td>0.000000e+00</td>\n",
       "      <td>0.000000e+00</td>\n",
       "      <td>0.000000e+00</td>\n",
       "      <td>0.000000e+00</td>\n",
       "      <td>6.300000e-01</td>\n",
       "      <td>6.600000e-01</td>\n",
       "      <td>0.000000e+00</td>\n",
       "    </tr>\n",
       "    <tr>\n",
       "      <th>50%</th>\n",
       "      <td>1.500000e+01</td>\n",
       "      <td>8.000000e+00</td>\n",
       "      <td>0.000000e+00</td>\n",
       "      <td>0.000000e+00</td>\n",
       "      <td>0.000000e+00</td>\n",
       "      <td>0.000000e+00</td>\n",
       "      <td>0.000000e+00</td>\n",
       "      <td>1.000000e+00</td>\n",
       "      <td>2.000000e+00</td>\n",
       "      <td>4.000000e+00</td>\n",
       "      <td>0.000000e+00</td>\n",
       "      <td>0.000000e+00</td>\n",
       "      <td>8.200000e-01</td>\n",
       "      <td>8.100000e-01</td>\n",
       "      <td>0.000000e+00</td>\n",
       "    </tr>\n",
       "    <tr>\n",
       "      <th>75%</th>\n",
       "      <td>8.000000e+01</td>\n",
       "      <td>9.000000e+00</td>\n",
       "      <td>0.000000e+00</td>\n",
       "      <td>4.000000e+00</td>\n",
       "      <td>1.200000e+01</td>\n",
       "      <td>2.000000e+01</td>\n",
       "      <td>4.000000e+00</td>\n",
       "      <td>1.500000e+01</td>\n",
       "      <td>3.100000e+01</td>\n",
       "      <td>4.700000e+01</td>\n",
       "      <td>3.000000e+00</td>\n",
       "      <td>0.000000e+00</td>\n",
       "      <td>9.700000e-01</td>\n",
       "      <td>9.500000e-01</td>\n",
       "      <td>0.000000e+00</td>\n",
       "    </tr>\n",
       "    <tr>\n",
       "      <th>max</th>\n",
       "      <td>1.233440e+07</td>\n",
       "      <td>5.200000e+01</td>\n",
       "      <td>4.894080e+05</td>\n",
       "      <td>1.427612e+06</td>\n",
       "      <td>2.461360e+06</td>\n",
       "      <td>3.777304e+06</td>\n",
       "      <td>7.417740e+05</td>\n",
       "      <td>1.105478e+06</td>\n",
       "      <td>2.146625e+06</td>\n",
       "      <td>3.205172e+06</td>\n",
       "      <td>3.133190e+05</td>\n",
       "      <td>1.464960e+05</td>\n",
       "      <td>1.000000e+00</td>\n",
       "      <td>1.000000e+00</td>\n",
       "      <td>1.253000e+04</td>\n",
       "    </tr>\n",
       "  </tbody>\n",
       "</table>\n",
       "</div>"
      ],
      "text/plain": [
       "       national_inv     lead_time  in_transit_qty  forecast_3_month  \\\n",
       "count  1.687860e+06  1.586967e+06    1.687860e+06      1.687860e+06   \n",
       "mean   4.961118e+02  7.872267e+00    4.405202e+01      1.781193e+02   \n",
       "std    2.961523e+04  7.056024e+00    1.342742e+03      5.026553e+03   \n",
       "min   -2.725600e+04  0.000000e+00    0.000000e+00      0.000000e+00   \n",
       "25%    4.000000e+00  4.000000e+00    0.000000e+00      0.000000e+00   \n",
       "50%    1.500000e+01  8.000000e+00    0.000000e+00      0.000000e+00   \n",
       "75%    8.000000e+01  9.000000e+00    0.000000e+00      4.000000e+00   \n",
       "max    1.233440e+07  5.200000e+01    4.894080e+05      1.427612e+06   \n",
       "\n",
       "       forecast_6_month  forecast_9_month  sales_1_month  sales_3_month  \\\n",
       "count      1.687860e+06      1.687860e+06   1.687860e+06   1.687860e+06   \n",
       "mean       3.449867e+02      5.063644e+02   5.592607e+01   1.750259e+02   \n",
       "std        9.795152e+03      1.437892e+04   1.928196e+03   5.192378e+03   \n",
       "min        0.000000e+00      0.000000e+00   0.000000e+00   0.000000e+00   \n",
       "25%        0.000000e+00      0.000000e+00   0.000000e+00   0.000000e+00   \n",
       "50%        0.000000e+00      0.000000e+00   0.000000e+00   1.000000e+00   \n",
       "75%        1.200000e+01      2.000000e+01   4.000000e+00   1.500000e+01   \n",
       "max        2.461360e+06      3.777304e+06   7.417740e+05   1.105478e+06   \n",
       "\n",
       "       sales_6_month  sales_9_month      min_bank  pieces_past_due  \\\n",
       "count   1.687860e+06   1.687860e+06  1.687860e+06     1.687860e+06   \n",
       "mean    3.417288e+02   5.252697e+02  5.277230e+01     2.043724e+00   \n",
       "std     9.613167e+03   1.483861e+04  1.254983e+03     2.360165e+02   \n",
       "min     0.000000e+00   0.000000e+00  0.000000e+00     0.000000e+00   \n",
       "25%     0.000000e+00   0.000000e+00  0.000000e+00     0.000000e+00   \n",
       "50%     2.000000e+00   4.000000e+00  0.000000e+00     0.000000e+00   \n",
       "75%     3.100000e+01   4.700000e+01  3.000000e+00     0.000000e+00   \n",
       "max     2.146625e+06   3.205172e+06  3.133190e+05     1.464960e+05   \n",
       "\n",
       "       perf_6_month_avg  perf_12_month_avg  local_bo_qty  \n",
       "count      1.687860e+06       1.687860e+06  1.687860e+06  \n",
       "mean      -6.872059e+00      -6.437947e+00  6.264507e-01  \n",
       "std        2.655636e+01       2.584333e+01  3.372224e+01  \n",
       "min       -9.900000e+01      -9.900000e+01  0.000000e+00  \n",
       "25%        6.300000e-01       6.600000e-01  0.000000e+00  \n",
       "50%        8.200000e-01       8.100000e-01  0.000000e+00  \n",
       "75%        9.700000e-01       9.500000e-01  0.000000e+00  \n",
       "max        1.000000e+00       1.000000e+00  1.253000e+04  "
      ]
     },
     "execution_count": 45,
     "metadata": {},
     "output_type": "execute_result"
    }
   ],
   "source": [
    "train_data.describe()"
   ]
  },
  {
   "cell_type": "markdown",
   "metadata": {},
   "source": [
    "It looks like around 100,000 instances are missing attribute 'lead_time', which is a critical attribute for our business problem. Because shorter lead_time implies better logistics and less-likelihood to go out of stock, we don't want to simply drop instances with missing values. "
   ]
  },
  {
   "cell_type": "markdown",
   "metadata": {},
   "source": [
    "Some of the variables are yes/no. Code them with 1/0 instead. "
   ]
  },
  {
   "cell_type": "code",
   "execution_count": 46,
   "metadata": {
    "collapsed": true
   },
   "outputs": [],
   "source": [
    "def boolean_to_int(x) :\n",
    "    if x == 'Yes': return 1\n",
    "    elif x == 'No': return 0\n",
    "    else : return x\n",
    "\n",
    "for i in train_data.columns :\n",
    "    train_data[i] = [boolean_to_int(x) for x in train_data[i]]\n",
    "    test_data[i] = [boolean_to_int(x) for x in test_data[i]]"
   ]
  },
  {
   "cell_type": "markdown",
   "metadata": {},
   "source": [
    "We don't want to assume all the missing values are due to random chance. First seperate the training set into two parts by whether lead_time is missing, and see if we can detect any patterns when lead_time is missing."
   ]
  },
  {
   "cell_type": "code",
   "execution_count": 47,
   "metadata": {
    "collapsed": true
   },
   "outputs": [],
   "source": [
    "train_with_na = train_data[train_data.isnull().any(axis=1)]\n",
    "train_complete = train_data.dropna(axis=0, how='any')"
   ]
  },
  {
   "cell_type": "code",
   "execution_count": 48,
   "metadata": {
    "collapsed": true
   },
   "outputs": [],
   "source": [
    "na_stats = train_with_na.describe()\n",
    "train_stats = train_complete.describe()"
   ]
  },
  {
   "cell_type": "code",
   "execution_count": 49,
   "metadata": {
    "scrolled": true
   },
   "outputs": [
    {
     "data": {
      "text/html": [
       "<div>\n",
       "<style>\n",
       "    .dataframe thead tr:only-child th {\n",
       "        text-align: right;\n",
       "    }\n",
       "\n",
       "    .dataframe thead th {\n",
       "        text-align: left;\n",
       "    }\n",
       "\n",
       "    .dataframe tbody tr th {\n",
       "        vertical-align: top;\n",
       "    }\n",
       "</style>\n",
       "<table border=\"1\" class=\"dataframe\">\n",
       "  <thead>\n",
       "    <tr style=\"text-align: right;\">\n",
       "      <th></th>\n",
       "      <th>national_inv</th>\n",
       "      <th>lead_time</th>\n",
       "      <th>in_transit_qty</th>\n",
       "      <th>forecast_3_month</th>\n",
       "      <th>forecast_6_month</th>\n",
       "      <th>forecast_9_month</th>\n",
       "      <th>sales_1_month</th>\n",
       "      <th>sales_3_month</th>\n",
       "      <th>sales_6_month</th>\n",
       "      <th>sales_9_month</th>\n",
       "      <th>...</th>\n",
       "      <th>pieces_past_due</th>\n",
       "      <th>perf_6_month_avg</th>\n",
       "      <th>perf_12_month_avg</th>\n",
       "      <th>local_bo_qty</th>\n",
       "      <th>deck_risk</th>\n",
       "      <th>oe_constraint</th>\n",
       "      <th>ppap_risk</th>\n",
       "      <th>stop_auto_buy</th>\n",
       "      <th>rev_stop</th>\n",
       "      <th>went_on_backorder</th>\n",
       "    </tr>\n",
       "  </thead>\n",
       "  <tbody>\n",
       "    <tr>\n",
       "      <th>count</th>\n",
       "      <td>1.586967e+06</td>\n",
       "      <td>1.586967e+06</td>\n",
       "      <td>1.586967e+06</td>\n",
       "      <td>1.586967e+06</td>\n",
       "      <td>1.586967e+06</td>\n",
       "      <td>1.586967e+06</td>\n",
       "      <td>1.586967e+06</td>\n",
       "      <td>1.586967e+06</td>\n",
       "      <td>1.586967e+06</td>\n",
       "      <td>1.586967e+06</td>\n",
       "      <td>...</td>\n",
       "      <td>1.586967e+06</td>\n",
       "      <td>1.586967e+06</td>\n",
       "      <td>1.586967e+06</td>\n",
       "      <td>1.586967e+06</td>\n",
       "      <td>1.586967e+06</td>\n",
       "      <td>1.586967e+06</td>\n",
       "      <td>1.586967e+06</td>\n",
       "      <td>1.586967e+06</td>\n",
       "      <td>1.586967e+06</td>\n",
       "      <td>1.586967e+06</td>\n",
       "    </tr>\n",
       "    <tr>\n",
       "      <th>mean</th>\n",
       "      <td>4.895098e+02</td>\n",
       "      <td>7.872267e+00</td>\n",
       "      <td>4.547493e+01</td>\n",
       "      <td>1.887439e+02</td>\n",
       "      <td>3.653390e+02</td>\n",
       "      <td>5.362801e+02</td>\n",
       "      <td>5.691140e+01</td>\n",
       "      <td>1.784835e+02</td>\n",
       "      <td>3.522319e+02</td>\n",
       "      <td>5.441272e+02</td>\n",
       "      <td>...</td>\n",
       "      <td>2.172666e+00</td>\n",
       "      <td>-1.014934e+00</td>\n",
       "      <td>-5.532225e-01</td>\n",
       "      <td>6.333207e-01</td>\n",
       "      <td>2.032538e-01</td>\n",
       "      <td>1.543825e-04</td>\n",
       "      <td>1.188090e-01</td>\n",
       "      <td>9.753675e-01</td>\n",
       "      <td>2.583545e-04</td>\n",
       "      <td>6.911927e-03</td>\n",
       "    </tr>\n",
       "    <tr>\n",
       "      <th>std</th>\n",
       "      <td>3.046168e+04</td>\n",
       "      <td>7.056024e+00</td>\n",
       "      <td>1.309357e+03</td>\n",
       "      <td>5.182992e+03</td>\n",
       "      <td>1.009962e+04</td>\n",
       "      <td>1.482576e+04</td>\n",
       "      <td>1.854775e+03</td>\n",
       "      <td>4.971129e+03</td>\n",
       "      <td>9.679297e+03</td>\n",
       "      <td>1.514871e+04</td>\n",
       "      <td>...</td>\n",
       "      <td>2.434021e+02</td>\n",
       "      <td>1.327273e+01</td>\n",
       "      <td>1.144580e+01</td>\n",
       "      <td>3.343933e+01</td>\n",
       "      <td>4.024199e-01</td>\n",
       "      <td>1.242412e-02</td>\n",
       "      <td>3.235638e-01</td>\n",
       "      <td>1.550025e-01</td>\n",
       "      <td>1.607134e-02</td>\n",
       "      <td>8.285021e-02</td>\n",
       "    </tr>\n",
       "    <tr>\n",
       "      <th>min</th>\n",
       "      <td>-2.725600e+04</td>\n",
       "      <td>0.000000e+00</td>\n",
       "      <td>0.000000e+00</td>\n",
       "      <td>0.000000e+00</td>\n",
       "      <td>0.000000e+00</td>\n",
       "      <td>0.000000e+00</td>\n",
       "      <td>0.000000e+00</td>\n",
       "      <td>0.000000e+00</td>\n",
       "      <td>0.000000e+00</td>\n",
       "      <td>0.000000e+00</td>\n",
       "      <td>...</td>\n",
       "      <td>0.000000e+00</td>\n",
       "      <td>-9.900000e+01</td>\n",
       "      <td>-9.900000e+01</td>\n",
       "      <td>0.000000e+00</td>\n",
       "      <td>0.000000e+00</td>\n",
       "      <td>0.000000e+00</td>\n",
       "      <td>0.000000e+00</td>\n",
       "      <td>0.000000e+00</td>\n",
       "      <td>0.000000e+00</td>\n",
       "      <td>0.000000e+00</td>\n",
       "    </tr>\n",
       "    <tr>\n",
       "      <th>25%</th>\n",
       "      <td>4.000000e+00</td>\n",
       "      <td>4.000000e+00</td>\n",
       "      <td>0.000000e+00</td>\n",
       "      <td>0.000000e+00</td>\n",
       "      <td>0.000000e+00</td>\n",
       "      <td>0.000000e+00</td>\n",
       "      <td>0.000000e+00</td>\n",
       "      <td>0.000000e+00</td>\n",
       "      <td>0.000000e+00</td>\n",
       "      <td>0.000000e+00</td>\n",
       "      <td>...</td>\n",
       "      <td>0.000000e+00</td>\n",
       "      <td>6.900000e-01</td>\n",
       "      <td>6.900000e-01</td>\n",
       "      <td>0.000000e+00</td>\n",
       "      <td>0.000000e+00</td>\n",
       "      <td>0.000000e+00</td>\n",
       "      <td>0.000000e+00</td>\n",
       "      <td>1.000000e+00</td>\n",
       "      <td>0.000000e+00</td>\n",
       "      <td>0.000000e+00</td>\n",
       "    </tr>\n",
       "    <tr>\n",
       "      <th>50%</th>\n",
       "      <td>1.400000e+01</td>\n",
       "      <td>8.000000e+00</td>\n",
       "      <td>0.000000e+00</td>\n",
       "      <td>0.000000e+00</td>\n",
       "      <td>0.000000e+00</td>\n",
       "      <td>0.000000e+00</td>\n",
       "      <td>0.000000e+00</td>\n",
       "      <td>1.000000e+00</td>\n",
       "      <td>3.000000e+00</td>\n",
       "      <td>4.000000e+00</td>\n",
       "      <td>...</td>\n",
       "      <td>0.000000e+00</td>\n",
       "      <td>8.400000e-01</td>\n",
       "      <td>8.200000e-01</td>\n",
       "      <td>0.000000e+00</td>\n",
       "      <td>0.000000e+00</td>\n",
       "      <td>0.000000e+00</td>\n",
       "      <td>0.000000e+00</td>\n",
       "      <td>1.000000e+00</td>\n",
       "      <td>0.000000e+00</td>\n",
       "      <td>0.000000e+00</td>\n",
       "    </tr>\n",
       "    <tr>\n",
       "      <th>75%</th>\n",
       "      <td>7.800000e+01</td>\n",
       "      <td>9.000000e+00</td>\n",
       "      <td>0.000000e+00</td>\n",
       "      <td>5.000000e+00</td>\n",
       "      <td>1.500000e+01</td>\n",
       "      <td>2.500000e+01</td>\n",
       "      <td>5.000000e+00</td>\n",
       "      <td>1.600000e+01</td>\n",
       "      <td>3.300000e+01</td>\n",
       "      <td>5.000000e+01</td>\n",
       "      <td>...</td>\n",
       "      <td>0.000000e+00</td>\n",
       "      <td>9.700000e-01</td>\n",
       "      <td>9.600000e-01</td>\n",
       "      <td>0.000000e+00</td>\n",
       "      <td>0.000000e+00</td>\n",
       "      <td>0.000000e+00</td>\n",
       "      <td>0.000000e+00</td>\n",
       "      <td>1.000000e+00</td>\n",
       "      <td>0.000000e+00</td>\n",
       "      <td>0.000000e+00</td>\n",
       "    </tr>\n",
       "    <tr>\n",
       "      <th>max</th>\n",
       "      <td>1.233440e+07</td>\n",
       "      <td>5.200000e+01</td>\n",
       "      <td>4.894080e+05</td>\n",
       "      <td>1.427612e+06</td>\n",
       "      <td>2.461360e+06</td>\n",
       "      <td>3.777304e+06</td>\n",
       "      <td>7.417740e+05</td>\n",
       "      <td>1.105478e+06</td>\n",
       "      <td>2.146625e+06</td>\n",
       "      <td>3.205172e+06</td>\n",
       "      <td>...</td>\n",
       "      <td>1.464960e+05</td>\n",
       "      <td>1.000000e+00</td>\n",
       "      <td>1.000000e+00</td>\n",
       "      <td>1.253000e+04</td>\n",
       "      <td>1.000000e+00</td>\n",
       "      <td>1.000000e+00</td>\n",
       "      <td>1.000000e+00</td>\n",
       "      <td>1.000000e+00</td>\n",
       "      <td>1.000000e+00</td>\n",
       "      <td>1.000000e+00</td>\n",
       "    </tr>\n",
       "  </tbody>\n",
       "</table>\n",
       "<p>8 rows × 22 columns</p>\n",
       "</div>"
      ],
      "text/plain": [
       "       national_inv     lead_time  in_transit_qty  forecast_3_month  \\\n",
       "count  1.586967e+06  1.586967e+06    1.586967e+06      1.586967e+06   \n",
       "mean   4.895098e+02  7.872267e+00    4.547493e+01      1.887439e+02   \n",
       "std    3.046168e+04  7.056024e+00    1.309357e+03      5.182992e+03   \n",
       "min   -2.725600e+04  0.000000e+00    0.000000e+00      0.000000e+00   \n",
       "25%    4.000000e+00  4.000000e+00    0.000000e+00      0.000000e+00   \n",
       "50%    1.400000e+01  8.000000e+00    0.000000e+00      0.000000e+00   \n",
       "75%    7.800000e+01  9.000000e+00    0.000000e+00      5.000000e+00   \n",
       "max    1.233440e+07  5.200000e+01    4.894080e+05      1.427612e+06   \n",
       "\n",
       "       forecast_6_month  forecast_9_month  sales_1_month  sales_3_month  \\\n",
       "count      1.586967e+06      1.586967e+06   1.586967e+06   1.586967e+06   \n",
       "mean       3.653390e+02      5.362801e+02   5.691140e+01   1.784835e+02   \n",
       "std        1.009962e+04      1.482576e+04   1.854775e+03   4.971129e+03   \n",
       "min        0.000000e+00      0.000000e+00   0.000000e+00   0.000000e+00   \n",
       "25%        0.000000e+00      0.000000e+00   0.000000e+00   0.000000e+00   \n",
       "50%        0.000000e+00      0.000000e+00   0.000000e+00   1.000000e+00   \n",
       "75%        1.500000e+01      2.500000e+01   5.000000e+00   1.600000e+01   \n",
       "max        2.461360e+06      3.777304e+06   7.417740e+05   1.105478e+06   \n",
       "\n",
       "       sales_6_month  sales_9_month        ...          pieces_past_due  \\\n",
       "count   1.586967e+06   1.586967e+06        ...             1.586967e+06   \n",
       "mean    3.522319e+02   5.441272e+02        ...             2.172666e+00   \n",
       "std     9.679297e+03   1.514871e+04        ...             2.434021e+02   \n",
       "min     0.000000e+00   0.000000e+00        ...             0.000000e+00   \n",
       "25%     0.000000e+00   0.000000e+00        ...             0.000000e+00   \n",
       "50%     3.000000e+00   4.000000e+00        ...             0.000000e+00   \n",
       "75%     3.300000e+01   5.000000e+01        ...             0.000000e+00   \n",
       "max     2.146625e+06   3.205172e+06        ...             1.464960e+05   \n",
       "\n",
       "       perf_6_month_avg  perf_12_month_avg  local_bo_qty     deck_risk  \\\n",
       "count      1.586967e+06       1.586967e+06  1.586967e+06  1.586967e+06   \n",
       "mean      -1.014934e+00      -5.532225e-01  6.333207e-01  2.032538e-01   \n",
       "std        1.327273e+01       1.144580e+01  3.343933e+01  4.024199e-01   \n",
       "min       -9.900000e+01      -9.900000e+01  0.000000e+00  0.000000e+00   \n",
       "25%        6.900000e-01       6.900000e-01  0.000000e+00  0.000000e+00   \n",
       "50%        8.400000e-01       8.200000e-01  0.000000e+00  0.000000e+00   \n",
       "75%        9.700000e-01       9.600000e-01  0.000000e+00  0.000000e+00   \n",
       "max        1.000000e+00       1.000000e+00  1.253000e+04  1.000000e+00   \n",
       "\n",
       "       oe_constraint     ppap_risk  stop_auto_buy      rev_stop  \\\n",
       "count   1.586967e+06  1.586967e+06   1.586967e+06  1.586967e+06   \n",
       "mean    1.543825e-04  1.188090e-01   9.753675e-01  2.583545e-04   \n",
       "std     1.242412e-02  3.235638e-01   1.550025e-01  1.607134e-02   \n",
       "min     0.000000e+00  0.000000e+00   0.000000e+00  0.000000e+00   \n",
       "25%     0.000000e+00  0.000000e+00   1.000000e+00  0.000000e+00   \n",
       "50%     0.000000e+00  0.000000e+00   1.000000e+00  0.000000e+00   \n",
       "75%     0.000000e+00  0.000000e+00   1.000000e+00  0.000000e+00   \n",
       "max     1.000000e+00  1.000000e+00   1.000000e+00  1.000000e+00   \n",
       "\n",
       "       went_on_backorder  \n",
       "count       1.586967e+06  \n",
       "mean        6.911927e-03  \n",
       "std         8.285021e-02  \n",
       "min         0.000000e+00  \n",
       "25%         0.000000e+00  \n",
       "50%         0.000000e+00  \n",
       "75%         0.000000e+00  \n",
       "max         1.000000e+00  \n",
       "\n",
       "[8 rows x 22 columns]"
      ]
     },
     "execution_count": 49,
     "metadata": {},
     "output_type": "execute_result"
    }
   ],
   "source": [
    "train_stats"
   ]
  },
  {
   "cell_type": "code",
   "execution_count": 50,
   "metadata": {},
   "outputs": [
    {
     "data": {
      "text/html": [
       "<div>\n",
       "<style>\n",
       "    .dataframe thead tr:only-child th {\n",
       "        text-align: right;\n",
       "    }\n",
       "\n",
       "    .dataframe thead th {\n",
       "        text-align: left;\n",
       "    }\n",
       "\n",
       "    .dataframe tbody tr th {\n",
       "        vertical-align: top;\n",
       "    }\n",
       "</style>\n",
       "<table border=\"1\" class=\"dataframe\">\n",
       "  <thead>\n",
       "    <tr style=\"text-align: right;\">\n",
       "      <th></th>\n",
       "      <th>national_inv</th>\n",
       "      <th>lead_time</th>\n",
       "      <th>in_transit_qty</th>\n",
       "      <th>forecast_3_month</th>\n",
       "      <th>forecast_6_month</th>\n",
       "      <th>forecast_9_month</th>\n",
       "      <th>sales_1_month</th>\n",
       "      <th>sales_3_month</th>\n",
       "      <th>sales_6_month</th>\n",
       "      <th>sales_9_month</th>\n",
       "      <th>...</th>\n",
       "      <th>pieces_past_due</th>\n",
       "      <th>perf_6_month_avg</th>\n",
       "      <th>perf_12_month_avg</th>\n",
       "      <th>local_bo_qty</th>\n",
       "      <th>deck_risk</th>\n",
       "      <th>oe_constraint</th>\n",
       "      <th>ppap_risk</th>\n",
       "      <th>stop_auto_buy</th>\n",
       "      <th>rev_stop</th>\n",
       "      <th>went_on_backorder</th>\n",
       "    </tr>\n",
       "  </thead>\n",
       "  <tbody>\n",
       "    <tr>\n",
       "      <th>count</th>\n",
       "      <td>100893.000000</td>\n",
       "      <td>0.0</td>\n",
       "      <td>100893.000000</td>\n",
       "      <td>100893.000000</td>\n",
       "      <td>100893.000000</td>\n",
       "      <td>100893.000000</td>\n",
       "      <td>100893.000000</td>\n",
       "      <td>1.008930e+05</td>\n",
       "      <td>1.008930e+05</td>\n",
       "      <td>1.008930e+05</td>\n",
       "      <td>...</td>\n",
       "      <td>100893.000000</td>\n",
       "      <td>100893.0</td>\n",
       "      <td>100893.0</td>\n",
       "      <td>100893.000000</td>\n",
       "      <td>100893.000000</td>\n",
       "      <td>100893.0</td>\n",
       "      <td>100893.000000</td>\n",
       "      <td>100893.000000</td>\n",
       "      <td>100893.000000</td>\n",
       "      <td>100893.000000</td>\n",
       "    </tr>\n",
       "    <tr>\n",
       "      <th>mean</th>\n",
       "      <td>599.955507</td>\n",
       "      <td>NaN</td>\n",
       "      <td>21.670879</td>\n",
       "      <td>11.002894</td>\n",
       "      <td>24.860258</td>\n",
       "      <td>35.814338</td>\n",
       "      <td>40.427582</td>\n",
       "      <td>1.206405e+02</td>\n",
       "      <td>1.765246e+02</td>\n",
       "      <td>2.286565e+02</td>\n",
       "      <td>...</td>\n",
       "      <td>0.015561</td>\n",
       "      <td>-99.0</td>\n",
       "      <td>-99.0</td>\n",
       "      <td>0.518391</td>\n",
       "      <td>0.643513</td>\n",
       "      <td>0.0</td>\n",
       "      <td>0.151527</td>\n",
       "      <td>0.781997</td>\n",
       "      <td>0.003182</td>\n",
       "      <td>0.003211</td>\n",
       "    </tr>\n",
       "    <tr>\n",
       "      <th>std</th>\n",
       "      <td>8785.828101</td>\n",
       "      <td>NaN</td>\n",
       "      <td>1787.484665</td>\n",
       "      <td>338.081913</td>\n",
       "      <td>747.502334</td>\n",
       "      <td>1120.038314</td>\n",
       "      <td>2843.686242</td>\n",
       "      <td>7.894806e+03</td>\n",
       "      <td>8.503946e+03</td>\n",
       "      <td>8.592103e+03</td>\n",
       "      <td>...</td>\n",
       "      <td>2.433645</td>\n",
       "      <td>0.0</td>\n",
       "      <td>0.0</td>\n",
       "      <td>37.895397</td>\n",
       "      <td>0.478964</td>\n",
       "      <td>0.0</td>\n",
       "      <td>0.358563</td>\n",
       "      <td>0.412892</td>\n",
       "      <td>0.056316</td>\n",
       "      <td>0.056578</td>\n",
       "    </tr>\n",
       "    <tr>\n",
       "      <th>min</th>\n",
       "      <td>-4573.000000</td>\n",
       "      <td>NaN</td>\n",
       "      <td>0.000000</td>\n",
       "      <td>0.000000</td>\n",
       "      <td>0.000000</td>\n",
       "      <td>0.000000</td>\n",
       "      <td>0.000000</td>\n",
       "      <td>0.000000e+00</td>\n",
       "      <td>0.000000e+00</td>\n",
       "      <td>0.000000e+00</td>\n",
       "      <td>...</td>\n",
       "      <td>0.000000</td>\n",
       "      <td>-99.0</td>\n",
       "      <td>-99.0</td>\n",
       "      <td>0.000000</td>\n",
       "      <td>0.000000</td>\n",
       "      <td>0.0</td>\n",
       "      <td>0.000000</td>\n",
       "      <td>0.000000</td>\n",
       "      <td>0.000000</td>\n",
       "      <td>0.000000</td>\n",
       "    </tr>\n",
       "    <tr>\n",
       "      <th>25%</th>\n",
       "      <td>4.000000</td>\n",
       "      <td>NaN</td>\n",
       "      <td>0.000000</td>\n",
       "      <td>0.000000</td>\n",
       "      <td>0.000000</td>\n",
       "      <td>0.000000</td>\n",
       "      <td>0.000000</td>\n",
       "      <td>0.000000e+00</td>\n",
       "      <td>0.000000e+00</td>\n",
       "      <td>0.000000e+00</td>\n",
       "      <td>...</td>\n",
       "      <td>0.000000</td>\n",
       "      <td>-99.0</td>\n",
       "      <td>-99.0</td>\n",
       "      <td>0.000000</td>\n",
       "      <td>0.000000</td>\n",
       "      <td>0.0</td>\n",
       "      <td>0.000000</td>\n",
       "      <td>1.000000</td>\n",
       "      <td>0.000000</td>\n",
       "      <td>0.000000</td>\n",
       "    </tr>\n",
       "    <tr>\n",
       "      <th>50%</th>\n",
       "      <td>22.000000</td>\n",
       "      <td>NaN</td>\n",
       "      <td>0.000000</td>\n",
       "      <td>0.000000</td>\n",
       "      <td>0.000000</td>\n",
       "      <td>0.000000</td>\n",
       "      <td>0.000000</td>\n",
       "      <td>0.000000e+00</td>\n",
       "      <td>1.000000e+00</td>\n",
       "      <td>1.000000e+00</td>\n",
       "      <td>...</td>\n",
       "      <td>0.000000</td>\n",
       "      <td>-99.0</td>\n",
       "      <td>-99.0</td>\n",
       "      <td>0.000000</td>\n",
       "      <td>1.000000</td>\n",
       "      <td>0.0</td>\n",
       "      <td>0.000000</td>\n",
       "      <td>1.000000</td>\n",
       "      <td>0.000000</td>\n",
       "      <td>0.000000</td>\n",
       "    </tr>\n",
       "    <tr>\n",
       "      <th>75%</th>\n",
       "      <td>113.000000</td>\n",
       "      <td>NaN</td>\n",
       "      <td>0.000000</td>\n",
       "      <td>0.000000</td>\n",
       "      <td>0.000000</td>\n",
       "      <td>0.000000</td>\n",
       "      <td>1.000000</td>\n",
       "      <td>4.000000e+00</td>\n",
       "      <td>8.000000e+00</td>\n",
       "      <td>1.300000e+01</td>\n",
       "      <td>...</td>\n",
       "      <td>0.000000</td>\n",
       "      <td>-99.0</td>\n",
       "      <td>-99.0</td>\n",
       "      <td>0.000000</td>\n",
       "      <td>1.000000</td>\n",
       "      <td>0.0</td>\n",
       "      <td>0.000000</td>\n",
       "      <td>1.000000</td>\n",
       "      <td>0.000000</td>\n",
       "      <td>0.000000</td>\n",
       "    </tr>\n",
       "    <tr>\n",
       "      <th>max</th>\n",
       "      <td>917218.000000</td>\n",
       "      <td>NaN</td>\n",
       "      <td>285365.000000</td>\n",
       "      <td>35792.000000</td>\n",
       "      <td>74986.000000</td>\n",
       "      <td>112141.000000</td>\n",
       "      <td>361803.000000</td>\n",
       "      <td>1.100523e+06</td>\n",
       "      <td>1.309162e+06</td>\n",
       "      <td>1.309162e+06</td>\n",
       "      <td>...</td>\n",
       "      <td>573.000000</td>\n",
       "      <td>-99.0</td>\n",
       "      <td>-99.0</td>\n",
       "      <td>7048.000000</td>\n",
       "      <td>1.000000</td>\n",
       "      <td>0.0</td>\n",
       "      <td>1.000000</td>\n",
       "      <td>1.000000</td>\n",
       "      <td>1.000000</td>\n",
       "      <td>1.000000</td>\n",
       "    </tr>\n",
       "  </tbody>\n",
       "</table>\n",
       "<p>8 rows × 22 columns</p>\n",
       "</div>"
      ],
      "text/plain": [
       "        national_inv  lead_time  in_transit_qty  forecast_3_month  \\\n",
       "count  100893.000000        0.0   100893.000000     100893.000000   \n",
       "mean      599.955507        NaN       21.670879         11.002894   \n",
       "std      8785.828101        NaN     1787.484665        338.081913   \n",
       "min     -4573.000000        NaN        0.000000          0.000000   \n",
       "25%         4.000000        NaN        0.000000          0.000000   \n",
       "50%        22.000000        NaN        0.000000          0.000000   \n",
       "75%       113.000000        NaN        0.000000          0.000000   \n",
       "max    917218.000000        NaN   285365.000000      35792.000000   \n",
       "\n",
       "       forecast_6_month  forecast_9_month  sales_1_month  sales_3_month  \\\n",
       "count     100893.000000     100893.000000  100893.000000   1.008930e+05   \n",
       "mean          24.860258         35.814338      40.427582   1.206405e+02   \n",
       "std          747.502334       1120.038314    2843.686242   7.894806e+03   \n",
       "min            0.000000          0.000000       0.000000   0.000000e+00   \n",
       "25%            0.000000          0.000000       0.000000   0.000000e+00   \n",
       "50%            0.000000          0.000000       0.000000   0.000000e+00   \n",
       "75%            0.000000          0.000000       1.000000   4.000000e+00   \n",
       "max        74986.000000     112141.000000  361803.000000   1.100523e+06   \n",
       "\n",
       "       sales_6_month  sales_9_month        ...          pieces_past_due  \\\n",
       "count   1.008930e+05   1.008930e+05        ...            100893.000000   \n",
       "mean    1.765246e+02   2.286565e+02        ...                 0.015561   \n",
       "std     8.503946e+03   8.592103e+03        ...                 2.433645   \n",
       "min     0.000000e+00   0.000000e+00        ...                 0.000000   \n",
       "25%     0.000000e+00   0.000000e+00        ...                 0.000000   \n",
       "50%     1.000000e+00   1.000000e+00        ...                 0.000000   \n",
       "75%     8.000000e+00   1.300000e+01        ...                 0.000000   \n",
       "max     1.309162e+06   1.309162e+06        ...               573.000000   \n",
       "\n",
       "       perf_6_month_avg  perf_12_month_avg   local_bo_qty      deck_risk  \\\n",
       "count          100893.0           100893.0  100893.000000  100893.000000   \n",
       "mean              -99.0              -99.0       0.518391       0.643513   \n",
       "std                 0.0                0.0      37.895397       0.478964   \n",
       "min               -99.0              -99.0       0.000000       0.000000   \n",
       "25%               -99.0              -99.0       0.000000       0.000000   \n",
       "50%               -99.0              -99.0       0.000000       1.000000   \n",
       "75%               -99.0              -99.0       0.000000       1.000000   \n",
       "max               -99.0              -99.0    7048.000000       1.000000   \n",
       "\n",
       "       oe_constraint      ppap_risk  stop_auto_buy       rev_stop  \\\n",
       "count       100893.0  100893.000000  100893.000000  100893.000000   \n",
       "mean             0.0       0.151527       0.781997       0.003182   \n",
       "std              0.0       0.358563       0.412892       0.056316   \n",
       "min              0.0       0.000000       0.000000       0.000000   \n",
       "25%              0.0       0.000000       1.000000       0.000000   \n",
       "50%              0.0       0.000000       1.000000       0.000000   \n",
       "75%              0.0       0.000000       1.000000       0.000000   \n",
       "max              0.0       1.000000       1.000000       1.000000   \n",
       "\n",
       "       went_on_backorder  \n",
       "count      100893.000000  \n",
       "mean            0.003211  \n",
       "std             0.056578  \n",
       "min             0.000000  \n",
       "25%             0.000000  \n",
       "50%             0.000000  \n",
       "75%             0.000000  \n",
       "max             1.000000  \n",
       "\n",
       "[8 rows x 22 columns]"
      ]
     },
     "execution_count": 50,
     "metadata": {},
     "output_type": "execute_result"
    }
   ],
   "source": [
    "na_stats"
   ]
  },
  {
   "cell_type": "markdown",
   "metadata": {},
   "source": [
    "When lead_time is missing, instances are very different from that of when lead_time is not missing. For example, back-order probability is around 0.3% when lead_time is missing, while back-order probability is around 0.7%  when lead_time is not missing. Therefore, when lead_time is missing in an instance it's only half as likely  to go on backorder. "
   ]
  },
  {
   "cell_type": "code",
   "execution_count": 51,
   "metadata": {},
   "outputs": [
    {
     "data": {
      "text/plain": [
       "0.0    100569\n",
       "1.0       324\n",
       "Name: went_on_backorder, dtype: int64"
      ]
     },
     "execution_count": 51,
     "metadata": {},
     "output_type": "execute_result"
    }
   ],
   "source": [
    "train_with_na.went_on_backorder.value_counts()"
   ]
  },
  {
   "cell_type": "code",
   "execution_count": 52,
   "metadata": {},
   "outputs": [
    {
     "data": {
      "text/plain": [
       "0.0    1575998\n",
       "1.0      10969\n",
       "Name: went_on_backorder, dtype: int64"
      ]
     },
     "execution_count": 52,
     "metadata": {},
     "output_type": "execute_result"
    }
   ],
   "source": [
    "train_complete.went_on_backorder.value_counts()"
   ]
  },
  {
   "cell_type": "markdown",
   "metadata": {},
   "source": [
    "More visualization on how instances missing lead_time differs from the other instances."
   ]
  },
  {
   "cell_type": "code",
   "execution_count": 53,
   "metadata": {
    "collapsed": true
   },
   "outputs": [],
   "source": [
    "import numpy as np\n",
    "stat_list = np.array([[0,0]])\n",
    "for i in na_stats.columns.drop(['lead_time','perf_6_month_avg',\n",
    "                                'perf_12_month_avg']):\n",
    "    temp_na_mean = np.array(na_stats[i])[1]\n",
    "    temp_train_mean = np.array(train_stats[i])[1]\n",
    "    temp_na_sd = np.array(na_stats[i])[2]\n",
    "    temp_train_sd = np.array(train_stats[i])[2]\n",
    "    mean_difference = (temp_na_mean-temp_train_mean)/temp_train_mean\n",
    "    sd_difference = (temp_na_sd-temp_train_sd)/temp_train_sd\n",
    "    difference = np.array([[mean_difference,sd_difference]])\n",
    "    stat_list = np.append(stat_list,difference,axis = 0)\n",
    "stat_list = stat_list[1:]  *100      "
   ]
  },
  {
   "cell_type": "code",
   "execution_count": 54,
   "metadata": {},
   "outputs": [
    {
     "data": {
      "image/png": "[encoded data removed]",
      "text/plain": [
       "<matplotlib.figure.Figure at 0x23b21932400>"
      ]
     },
     "metadata": {},
     "output_type": "display_data"
    }
   ],
   "source": [
    "from matplotlib import pyplot\n",
    "pyplot.scatter(x = stat_list[:,0], y = stat_list[:,1])\n",
    "for i, txt in enumerate(na_stats.columns.drop(['lead_time','perf_6_month_avg','perf_12_month_avg'])):\n",
    "    pyplot.annotate(txt, (stat_list[:,0][i],stat_list[:,1][i]))\n",
    "pyplot.xlabel('% Diff in Mean value')\n",
    "pyplot.ylabel('% Diff in Sd value')\n",
    "pyplot.title('Missing Data and Complete Data Distribution Difference by Columns')\n",
    "pyplot.show()\n",
    "\n",
    "%matplotlib inline"
   ]
  },
  {
   "cell_type": "markdown",
   "metadata": {},
   "source": [
    "This plot tells us that when lead_time is na, each columns's distribution is very different. To get the best prediction results, we will use other features to preict and fill missing values instead of dropping them directly. \n",
    "\n",
    "To do this, we first take data where all columns are complete.Then for each column in the original set with missing values, we treat that column in the complete set as target variable, and train models using other features. Finally, fill Nas in the original set with our preditions"
   ]
  },
  {
   "cell_type": "code",
   "execution_count": 55,
   "metadata": {
    "collapsed": true
   },
   "outputs": [],
   "source": [
    "from sklearn.model_selection import train_test_split\n",
    "#This is the train_data with lead_time not being NA\n",
    "train_complete = train_complete.sample(frac = 1,random_state = 42)\n",
    "label_na = train_complete.lead_time\n",
    "train_complete = train_complete.drop(labels='lead_time',axis = 1)\n",
    "\n",
    "#This is train_data with nothing being NA\n",
    "complete_index = train_complete.index[train_complete['perf_6_month_avg']>0].tolist()\n",
    "train_all_complete = train_complete.loc[complete_index]\n",
    "label_all_complete = label_na.loc[complete_index]\n",
    "x_train_na1, x_test_na, y_train_na1, y_test_na = train_test_split(\n",
    "    train_all_complete, label_all_complete, test_size=0.2, random_state=42)\n"
   ]
  },
  {
   "cell_type": "code",
   "execution_count": 34,
   "metadata": {
    "collapsed": true
   },
   "outputs": [],
   "source": [
    "#These functions build models, fine-tune their parameters, and provide test performance.\n",
    "#Return list include the best model, the best parameter, mse performance,and the actual prediction\n",
    "\n",
    "#Ideally I would define another function to define classifier by a string input, but we were short in\n",
    "#time for this project and we'd like to keep it as simple as possible to avoid any further errors.\n",
    "from sklearn.ensemble import RandomForestRegressor\n",
    "from sklearn.ensemble import RandomForestClassifier\n",
    "from sklearn.metrics import mean_squared_error\n",
    "from sklearn.ensemble import AdaBoostRegressor\n",
    "from sklearn.metrics import roc_auc_score,accuracy_score, confusion_matrix, f1_score\n",
    "\n",
    "def adaboost_regression(x_train,y_train, x_test,y_test) :\n",
    "    x_train_na, x_val_na, y_train_na, y_val_na = train_test_split(\n",
    "    x_train, y_train, test_size=0.25, random_state=42)\n",
    "    \n",
    "    performance_list = []\n",
    "    for i in range(15,23):\n",
    "        rf = AdaBoostRegressor(n_estimators = i, random_state = 52)\n",
    "        rf_model = rf.fit(X = x_train_na, y = y_train_na)\n",
    "        rf_pred = rf_model.predict(x_val_na)\n",
    "           \n",
    "        rf_score = mean_squared_error(y_true = y_val_na, y_pred = rf_pred)\n",
    "        performance_list.append(rf_score)\n",
    "\n",
    "   \n",
    "        best_n = performance_list.index(max(performance_list))+20\n",
    "\n",
    "    rf_best = AdaBoostRegressor(n_estimators = best_n, random_state = 52)\n",
    "    rf_model_best = rf_best.fit(X = x_train, y = y_train)\n",
    "    rf_pred_best = rf_model_best.predict(x_test)\n",
    "    score = mean_squared_error(y_true = y_test, y_pred = rf_pred_best)\n",
    "    return [best_n,rf_model_best,score,rf_pred_best]\n",
    "\n",
    "def random_forest_regression(x_train,y_train, x_test,y_test) :\n",
    "    x_train_na, x_val_na, y_train_na, y_val_na = train_test_split(\n",
    "    x_train, y_train, test_size=0.25, random_state=42)\n",
    "    \n",
    "    performance_list = []\n",
    "    for i in range(18,23):\n",
    "        rf = RandomForestRegressor(n_estimators = i, random_state = 52)\n",
    "        rf_model = rf.fit(X = x_train_na, y = y_train_na)\n",
    "        rf_pred = rf_model.predict(x_val_na)\n",
    "           \n",
    "        rf_score = mean_squared_error(y_true = y_val_na, y_pred = rf_pred)\n",
    "        performance_list.append(rf_score)\n",
    "\n",
    "   \n",
    "        best_n = performance_list.index(max(performance_list))+20\n",
    "\n",
    "    rf_best = RandomForestRegressor(n_estimators = best_n, random_state = 52)\n",
    "    rf_model_best = rf_best.fit(X = x_train, y = y_train)\n",
    "    rf_pred_best = rf_model_best.predict(x_test)\n",
    "    score = mean_squared_error(y_true = y_test, y_pred = rf_pred_best)\n",
    "    return [best_n,rf_model_best,score,rf_pred_best]\n",
    "\n",
    "def random_forest_classification(x_train,y_train, x_test,y_test) :\n",
    "    x_train_na, x_val_na, y_train_na, y_val_na = train_test_split(\n",
    "    x_train, y_train, test_size=0.25, random_state=42)\n",
    "    \n",
    "    performance_list = []\n",
    "    for i in range(18,23):\n",
    "        rf = RandomForestClassifier(n_estimators = i, random_state = 52)\n",
    "        rf_model = rf.fit(X = x_train_na, y = y_train_na)\n",
    "        rf_pred = rf_model.predict(x_val_na)\n",
    "           \n",
    "        rf_score = mean_squared_error(y_true = y_val_na, y_pred = rf_pred)\n",
    "        performance_list.append(rf_score)\n",
    "\n",
    "   \n",
    "        best_n = performance_list.index(max(performance_list))+20\n",
    "\n",
    "    rf_best = RandomForestClassifier(n_estimators = best_n, random_state = 52)\n",
    "    rf_model_best = rf_best.fit(X = x_train, y = y_train)\n",
    "    rf_pred_best = rf_model_best.predict(x_test)\n",
    "    score = mean_squared_error(y_true = y_test, y_pred = rf_pred_best)\n",
    "    return [best_n,rf_model_best,score,rf_pred_best]"
   ]
  },
  {
   "cell_type": "code",
   "execution_count": 33,
   "metadata": {
    "collapsed": true
   },
   "outputs": [],
   "source": [
    "# This function trains 6 models with chosen algorithm. Since we have over a million observations, I played around\n",
    "# with the data and determined training each model over 200,000 instances seems reasonable.\n",
    "\n",
    "# Again, ideally I would  define a function to define classifier, but I wanted to\n",
    "# keep it simple.\n",
    "def ensemble_ada(x_train,y_train,x_test,y_test,interval):\n",
    "    na_result_lists = [[]]\n",
    "    for i in range (0,6) :\n",
    "        \n",
    "        start_index = i*interval\n",
    "        end_index = (i+1)*interval+1\n",
    "        temp_train_nax = x_train.iloc[start_index:(end_index),:]\n",
    "        temp_train_nay = y_train.iloc[start_index:(end_index)]\n",
    "        na_result_lists = na_result_lists + [adaboost_regression(x_train = temp_train_nax, \n",
    "                                    y_train = temp_train_nay,x_test = x_test,y_test = y_test)]\n",
    "\n",
    "    return na_result_lists\n",
    "\n",
    "def ensemble_rf(x_train,y_train,x_test,y_test,interval):\n",
    "    na_result_lists = [[]]\n",
    "    for i in range (0,6) :\n",
    "        \n",
    "        start_index = i*interval\n",
    "        end_index = (i+1)*interval+1\n",
    "        temp_train_nax = x_train.iloc[start_index:(end_index),:]\n",
    "        temp_train_nay = y_train.iloc[start_index:(end_index)]\n",
    "        \n",
    "        na_result_lists = na_result_lists + [random_forest_regression(x_train = temp_train_nax, \n",
    "                                    y_train = temp_train_nay,x_test = x_test,y_test = y_test)]\n",
    "        \n",
    "    return na_result_lists\n",
    "\n",
    "def ensemble_rfc(x_train,y_train,x_test,y_test,interval):\n",
    "    na_result_lists = [[]]\n",
    "    for i in range (0,6) :\n",
    "        \n",
    "        start_index = i*interval\n",
    "        end_index = (i+1)*interval+1\n",
    "        temp_train_nax = x_train.iloc[start_index:(end_index),:]\n",
    "        temp_train_nay = y_train.iloc[start_index:(end_index)]\n",
    "        na_result_lists = na_result_lists + [random_forest_classification(x_train = temp_train_nax, \n",
    "                                    y_train = temp_train_nay,x_test = x_test,y_test = y_test)]\n",
    "    return na_result_lists"
   ]
  },
  {
   "cell_type": "markdown",
   "metadata": {},
   "source": [
    "There are 3 columns with missing values: lead_time, perf_6_month, and perf_12_month. A lot of code are repetitive so ideally we could have automated it. Again, for simplicity reasons we just did copy & paste."
   ]
  },
  {
   "cell_type": "markdown",
   "metadata": {},
   "source": [
    "###  lead_time prediction"
   ]
  },
  {
   "cell_type": "code",
   "execution_count": 58,
   "metadata": {
    "collapsed": true
   },
   "outputs": [],
   "source": [
    "ada_result = ensemble_ada(x_train_na1,y_train_na1,x_test_na,y_test_na,202582)\n",
    "ada_result = ada_result[1:]"
   ]
  },
  {
   "cell_type": "code",
   "execution_count": 59,
   "metadata": {
    "collapsed": true
   },
   "outputs": [],
   "source": [
    "random_forest_classifier_result = ensemble_rfc(x_train_na1,y_train_na1,x_test_na,y_test_na,202582)\n",
    "random_forest_classifier_result = random_forest_classifier_result[1:]"
   ]
  },
  {
   "cell_type": "markdown",
   "metadata": {},
   "source": [
    "Evaluate our performance"
   ]
  },
  {
   "cell_type": "code",
   "execution_count": 14,
   "metadata": {
    "collapsed": true
   },
   "outputs": [],
   "source": [
    "#This function ensembles all 6 models and gives the average prediction of all 6 predictors\n",
    "def get_ensembled_result(na_result_lists):    \n",
    "    sum_pred = np.array(na_result_lists[0][3])\n",
    "    for i in na_result_lists[1:] :\n",
    "        sum_pred = sum_pred + np.array(i[3])\n",
    "    return sum_pred/6\n"
   ]
  },
  {
   "cell_type": "code",
   "execution_count": 61,
   "metadata": {},
   "outputs": [
    {
     "data": {
      "text/plain": [
       "6.6378615193486104"
      ]
     },
     "execution_count": 61,
     "metadata": {},
     "output_type": "execute_result"
    }
   ],
   "source": [
    "ada_mse = mean_squared_error(y_true = y_test_na, y_pred = get_ensembled_result(ada_result))\n",
    "ada_rmse = np.sqrt(ada_mse)\n",
    "ada_rmse"
   ]
  },
  {
   "cell_type": "code",
   "execution_count": 62,
   "metadata": {},
   "outputs": [
    {
     "data": {
      "text/plain": [
       "3.9008374863896784"
      ]
     },
     "execution_count": 62,
     "metadata": {},
     "output_type": "execute_result"
    }
   ],
   "source": [
    "rfc_mse = mean_squared_error(y_true = y_test_na, y_pred = get_ensembled_result(random_forest_classifier_result))\n",
    "rfc_rmse = np.sqrt(rfc_mse)\n",
    "rfc_rmse"
   ]
  },
  {
   "cell_type": "markdown",
   "metadata": {},
   "source": [
    "random forest classifier works better. Predict missing lead_time in the training data"
   ]
  },
  {
   "cell_type": "code",
   "execution_count": 63,
   "metadata": {
    "collapsed": true
   },
   "outputs": [],
   "source": [
    "train_with_na = train_with_na.iloc[1:100893]\n",
    "train_with_na = train_with_na.drop(labels='lead_time',axis = 1)"
   ]
  },
  {
   "cell_type": "code",
   "execution_count": 64,
   "metadata": {
    "collapsed": true
   },
   "outputs": [],
   "source": [
    "na_results_train = [[]]\n",
    "for i in random_forest_classifier_result :\n",
    "    model = i[1]\n",
    "    prediction = model.predict(X = train_with_na)\n",
    "    na_results_train = na_results_train + [prediction]\n",
    "na_results_train = na_results_train[1:]\n",
    "sum_pred = np.array(na_results_train[0])\n",
    "for i in na_results_train[1:] :\n",
    "    sum_pred = sum_pred + np.array(i)\n",
    "average_pred_train =  np.round(sum_pred/6)\n",
    "train_with_na['lead_time'] =  average_pred_train\n",
    "\n"
   ]
  },
  {
   "cell_type": "code",
   "execution_count": 65,
   "metadata": {
    "collapsed": true
   },
   "outputs": [],
   "source": [
    "train_complete['lead_time'] = label_na"
   ]
  },
  {
   "cell_type": "code",
   "execution_count": 66,
   "metadata": {
    "collapsed": true
   },
   "outputs": [],
   "source": [
    "train_comlete_data = pd.concat([train_with_na,train_complete])"
   ]
  },
  {
   "cell_type": "markdown",
   "metadata": {},
   "source": [
    "Prepare test data for lead_time prediction"
   ]
  },
  {
   "cell_type": "code",
   "execution_count": 67,
   "metadata": {
    "collapsed": true
   },
   "outputs": [],
   "source": [
    "\n",
    "test_with_na = test_data[test_data.isnull().any(axis=1)]\n",
    "test_with_na = test_with_na.iloc[1:14724,]\n",
    "test_complete = test_data.dropna(axis=0, how='any')\n",
    "\n",
    "test_with_na = test_with_na.drop(labels='lead_time',axis = 1)"
   ]
  },
  {
   "cell_type": "markdown",
   "metadata": {},
   "source": [
    "Use our best models to make predictions on test_with_na for lead_time. Then replace the entire lead_time column with the average our final prediction, which is the average of results from all 6 predictors."
   ]
  },
  {
   "cell_type": "code",
   "execution_count": 68,
   "metadata": {
    "collapsed": true
   },
   "outputs": [],
   "source": [
    "na_results_test = [[]]\n",
    "for i in random_forest_classifier_result :\n",
    "    model = i[1]\n",
    "    prediction = model.predict(X = test_with_na)\n",
    "    na_results_test = na_results_test + [prediction]\n",
    "na_results_test = na_results_test[1:]\n",
    "sum_pred = np.array(na_results_test[0])\n",
    "for i in na_results_test[1:] :\n",
    "    sum_pred = sum_pred + np.array(i)\n",
    "average_pred_test =  np.round(sum_pred/6)\n",
    "test_with_na['lead_time'] =  average_pred_test\n",
    "test_comlete_data = pd.concat([test_with_na,test_complete])"
   ]
  },
  {
   "cell_type": "markdown",
   "metadata": {},
   "source": [
    "### Perf_6_month Prediction"
   ]
  },
  {
   "cell_type": "code",
   "execution_count": 69,
   "metadata": {
    "collapsed": true
   },
   "outputs": [],
   "source": [
    "#This is the index of training data that needs to be fixed\n",
    "index6_list=train_comlete_data.index[train_comlete_data['perf_6_month_avg']==-99].tolist()\n",
    "train_with_perfna = train_comlete_data.loc[index6_list]\n",
    "\n"
   ]
  },
  {
   "cell_type": "code",
   "execution_count": 70,
   "metadata": {
    "collapsed": true
   },
   "outputs": [],
   "source": [
    "index6_complete_list = train_comlete_data.index[train_comlete_data['perf_6_month_avg']>0].tolist()\n",
    "train_with_complete_perf = train_comlete_data.loc[index6_complete_list]"
   ]
  },
  {
   "cell_type": "code",
   "execution_count": 79,
   "metadata": {
    "collapsed": true
   },
   "outputs": [],
   "source": [
    "#Split to training+test, here use train_all_complete dataset from previous time.\n",
    "train_all_complete = train_comlete_data.loc[complete_index]\n",
    "\n",
    "perf6_label = train_all_complete.perf_6_month_avg\n",
    "train_all_complete = train_all_complete.drop(labels='perf_6_month_avg',axis = 1)\n",
    "\n",
    "x_train_perf6, x_test_perf6, y_train_perf6, y_test_perf6 = train_test_split(\n",
    "    train_all_complete, perf6_label, test_size=0.2, random_state=42)"
   ]
  },
  {
   "cell_type": "code",
   "execution_count": 80,
   "metadata": {},
   "outputs": [
    {
     "data": {
      "text/plain": [
       "1215495"
      ]
     },
     "execution_count": 80,
     "metadata": {},
     "output_type": "execute_result"
    }
   ],
   "source": [
    "perf6_regressor_num = x_train_perf6.shape[0]\n",
    "perf6_regressor_num"
   ]
  },
  {
   "cell_type": "code",
   "execution_count": 81,
   "metadata": {},
   "outputs": [
    {
     "data": {
      "text/plain": [
       "202582.5"
      ]
     },
     "execution_count": 81,
     "metadata": {},
     "output_type": "execute_result"
    }
   ],
   "source": [
    "perf6_regressor_num/6"
   ]
  },
  {
   "cell_type": "code",
   "execution_count": 82,
   "metadata": {
    "collapsed": true
   },
   "outputs": [],
   "source": [
    "perf6_results = [[]]\n",
    "perf6_interval = 202582\n",
    "for i in range (0,6) :\n",
    "    start_index = i*perf6_interval\n",
    "    end_index = (i+1)*perf6_interval+1\n",
    "    temp_train_nax = x_train_perf6.iloc[start_index:(end_index),:]\n",
    "    temp_train_nay = y_train_perf6.iloc[start_index:(end_index)]\n",
    "    perf6_results = perf6_results + [random_forest_regression(x_train = temp_train_nax, \n",
    "                            y_train = temp_train_nay,x_test = x_test_perf6,y_test = y_test_perf6)]\n",
    "perf6_results = perf6_results[1:]"
   ]
  },
  {
   "cell_type": "code",
   "execution_count": null,
   "metadata": {
    "collapsed": true
   },
   "outputs": [],
   "source": [
    "train_with_perfna = train_with_perfna.drop(labels = 'perf_6_month_avg',axis = 1)"
   ]
  },
  {
   "cell_type": "code",
   "execution_count": 87,
   "metadata": {
    "collapsed": true
   },
   "outputs": [],
   "source": [
    "#predict perf6 on train set\n",
    "\n",
    "na_results_train = [[]]\n",
    "for i in perf6_results :\n",
    "    model = i[1]\n",
    "    prediction = model.predict(X = train_with_perfna)\n",
    "    na_results_train = na_results_train + [prediction]\n",
    "na_results_train = na_results_train[1:]\n",
    "sum_pred = np.array(na_results_train[0])\n",
    "for i in na_results_train[1:] :\n",
    "    sum_pred = sum_pred + np.array(i)\n",
    "average_pred_train =  np.round(sum_pred/6)\n",
    "train_with_perfna['perf_6_month_avg'] =  average_pred_train\n"
   ]
  },
  {
   "cell_type": "code",
   "execution_count": 89,
   "metadata": {
    "collapsed": true
   },
   "outputs": [],
   "source": [
    "train_comlete_data = pd.concat([train_with_perfna,train_with_complete_perfna])"
   ]
  },
  {
   "cell_type": "code",
   "execution_count": 90,
   "metadata": {
    "collapsed": true
   },
   "outputs": [],
   "source": [
    "test_perf6_na_index = test_comlete_data.index[test_comlete_data['perf_6_month_avg']==-99].tolist()\n",
    "test_perf6_na = test_comlete_data.loc[test_perf6_na_index]\n",
    "\n",
    "index6_complete_list_test = test_comlete_data.index[test_comlete_data['perf_6_month_avg']>0].tolist()\n",
    "test_with_complete_perfna = test_comlete_data.loc[index6_complete_list_test]\n",
    "test_perf6_na = test_perf6_na.drop(labels = 'perf_6_month_avg',axis = 1)"
   ]
  },
  {
   "cell_type": "code",
   "execution_count": 91,
   "metadata": {
    "collapsed": true
   },
   "outputs": [],
   "source": [
    "na_results_test = [[]]\n",
    "for i in perf6_results :\n",
    "    model = i[1]\n",
    "    prediction = model.predict(X = test_perf6_na)\n",
    "    na_results_test = na_results_test + [prediction]\n",
    "na_results_test = na_results_test[1:]\n",
    "sum_pred = np.array(na_results_test[0])\n",
    "for i in na_results_test[1:] :\n",
    "    sum_pred = sum_pred + np.array(i)\n",
    "average_pred_test =  np.round(sum_pred/6)\n",
    "test_perf6_na['perf_6_month_avg'] =  average_pred_test\n"
   ]
  },
  {
   "cell_type": "code",
   "execution_count": 92,
   "metadata": {
    "collapsed": true
   },
   "outputs": [],
   "source": [
    "test_comlete_data = pd.concat([test_perf6_na,test_with_complete_perfna])"
   ]
  },
  {
   "cell_type": "code",
   "execution_count": 96,
   "metadata": {
    "collapsed": true
   },
   "outputs": [],
   "source": [
    "train_all_complete['perf_6_month_avg'] = perf6_label"
   ]
  },
  {
   "cell_type": "markdown",
   "metadata": {},
   "source": [
    "### Perf_12_month Prediction"
   ]
  },
  {
   "cell_type": "code",
   "execution_count": 95,
   "metadata": {
    "collapsed": true
   },
   "outputs": [],
   "source": [
    "#This is the index of training data that needs to be fixed\n",
    "index12_list=train_comlete_data.index[train_comlete_data['perf_12_month_avg']==-99].tolist()\n",
    "train_with_perfna = train_comlete_data.loc[index12_list]\n",
    "index12_complete_list = train_comlete_data.index[train_comlete_data['perf_12_month_avg']>0].tolist()\n",
    "train_with_complete_perf = train_comlete_data.loc[index12_complete_list]"
   ]
  },
  {
   "cell_type": "code",
   "execution_count": 97,
   "metadata": {
    "collapsed": true
   },
   "outputs": [],
   "source": [
    "#Split to training+test, here use train_all_complete dataset from previous time.\n",
    "perf12_label = train_all_complete.perf_12_month_avg\n",
    "train_all_complete = train_all_complete.drop(labels='perf_12_month_avg',axis = 1)\n",
    "\n",
    "x_train_perf12, x_test_perf12, y_train_perf12, y_test_perf12 = train_test_split(\n",
    "    train_all_complete, perf12_label, test_size=0.2, random_state=42)"
   ]
  },
  {
   "cell_type": "code",
   "execution_count": 98,
   "metadata": {},
   "outputs": [
    {
     "data": {
      "text/plain": [
       "202582.5"
      ]
     },
     "execution_count": 98,
     "metadata": {},
     "output_type": "execute_result"
    }
   ],
   "source": [
    "perf12_regressor_num = x_train_perf12.shape[0]\n",
    "perf12_regressor_num/6"
   ]
  },
  {
   "cell_type": "code",
   "execution_count": 99,
   "metadata": {
    "collapsed": true
   },
   "outputs": [],
   "source": [
    "#Build models\n",
    "perf12_results = [[]]\n",
    "perf12_interval = 202582\n",
    "for i in range (0,6) :\n",
    "    start_index = i*perf12_interval\n",
    "    end_index = (i+1)*perf12_interval+1\n",
    "    temp_train_nax = x_train_perf12.iloc[start_index:(end_index),:]\n",
    "    temp_train_nay = y_train_perf12.iloc[start_index:(end_index)]\n",
    "    perf12_results = perf12_results + [random_forest_regression(x_train = temp_train_nax, \n",
    "                            y_train = temp_train_nay,x_test = x_test_perf12,y_test = y_test_perf12)]\n",
    "perf12_results = perf12_results[1:]"
   ]
  },
  {
   "cell_type": "code",
   "execution_count": 101,
   "metadata": {
    "collapsed": true
   },
   "outputs": [],
   "source": [
    "train_with_perfna = train_with_perfna.drop(labels = 'perf_12_month_avg',axis = 1)"
   ]
  },
  {
   "cell_type": "code",
   "execution_count": 102,
   "metadata": {
    "collapsed": true
   },
   "outputs": [],
   "source": [
    "#predict perf12 on train set\n",
    "\n",
    "na_results_train_12 = [[]]\n",
    "for i in perf12_results :\n",
    "    model = i[1]\n",
    "    prediction = model.predict(X = train_with_perfna)\n",
    "    na_results_train_12 = na_results_train_12 + [prediction]\n",
    "na_results_train_12 = na_results_train_12[1:]\n",
    "sum_pred = np.array(na_results_train_12[0])\n",
    "for i in na_results_train_12[1:] :\n",
    "    sum_pred = sum_pred + np.array(i)\n",
    "average_pred_train =  np.round(sum_pred/6)\n",
    "train_with_perfna['perf_12_month_avg'] =  average_pred_train\n"
   ]
  },
  {
   "cell_type": "code",
   "execution_count": 124,
   "metadata": {
    "collapsed": true
   },
   "outputs": [],
   "source": [
    "train_comlete_data = pd.concat([train_with_perfna,train_with_complete_perf])"
   ]
  },
  {
   "cell_type": "code",
   "execution_count": 104,
   "metadata": {
    "collapsed": true
   },
   "outputs": [],
   "source": [
    "test_perf12_na_index = test_comlete_data.index[test_comlete_data['perf_12_month_avg']==-99].tolist()\n",
    "test_perf12_na = test_comlete_data.loc[test_perf12_na_index]\n",
    "\n",
    "index12_complete_list_test = test_comlete_data.index[test_comlete_data['perf_12_month_avg']>0].tolist()\n",
    "test_with_complete_perfna = test_comlete_data.loc[index12_complete_list_test]\n",
    "test_perf12_na = test_perf12_na.drop(labels = 'perf_12_month_avg',axis = 1)"
   ]
  },
  {
   "cell_type": "code",
   "execution_count": 105,
   "metadata": {
    "collapsed": true
   },
   "outputs": [],
   "source": [
    "na_results_test12 = [[]]\n",
    "for i in perf12_results :\n",
    "    model = i[1]\n",
    "    prediction = model.predict(X = test_perf12_na)\n",
    "    na_results_test12 = na_results_test12 + [prediction]\n",
    "na_results_test12 = na_results_test12[1:]\n",
    "sum_pred = np.array(na_results_test12[0])\n",
    "for i in na_results_test12[1:] :\n",
    "    sum_pred = sum_pred + np.array(i)\n",
    "average_pred_test12 =  np.round(sum_pred/6)\n",
    "test_perf12_na['perf_12_month_avg'] =  average_pred_test12\n"
   ]
  },
  {
   "cell_type": "code",
   "execution_count": 106,
   "metadata": {
    "collapsed": true
   },
   "outputs": [],
   "source": [
    "test_comlete_data = pd.concat([test_perf12_na,test_with_complete_perfna])"
   ]
  },
  {
   "cell_type": "markdown",
   "metadata": {},
   "source": [
    "## Feature engineering"
   ]
  },
  {
   "cell_type": "markdown",
   "metadata": {},
   "source": [
    "The only modification we'd like to do is to subtract forecast numbers from each other--obviously, sales forecast for the next 9 months will include sales predictions for the next 3 and 6 months."
   ]
  },
  {
   "cell_type": "code",
   "execution_count": 125,
   "metadata": {
    "collapsed": true
   },
   "outputs": [],
   "source": [
    "train_comlete_data[['forecast_6_month']]=train_comlete_data[['forecast_6_month']].values-train_comlete_data[['forecast_3_month']].values\n",
    "\n",
    "train_comlete_data[['forecast_9_month']]=train_comlete_data[['forecast_9_month']].values-(train_comlete_data[['forecast_3_month']].values+train_comlete_data[['forecast_6_month']])\n",
    "\n",
    "\n",
    "train_comlete_data[['sales_3_month']]=train_comlete_data[['sales_3_month']].values-train_comlete_data[['sales_1_month']].values\n",
    "\n",
    "train_comlete_data[['sales_6_month']]=train_comlete_data[['sales_6_month']].values-(train_comlete_data[['sales_1_month']].values+train_comlete_data[['sales_3_month']].values)\n",
    "\n",
    "\n",
    "train_comlete_data[['sales_9_month']]=train_comlete_data[['sales_9_month']].values-(train_comlete_data[['sales_1_month']].values+train_comlete_data[['sales_6_month']].values+train_comlete_data[['sales_3_month']].values)"
   ]
  },
  {
   "cell_type": "code",
   "execution_count": 108,
   "metadata": {
    "collapsed": true
   },
   "outputs": [],
   "source": [
    "test_comlete_data[['forecast_6_month']]=test_comlete_data[['forecast_6_month']].values-test_comlete_data[['forecast_3_month']].values\n",
    "\n",
    "test_comlete_data[['forecast_9_month']]=test_comlete_data[['forecast_9_month']].values-(test_comlete_data[['forecast_3_month']].values+test_comlete_data[['forecast_6_month']])\n",
    "\n",
    "\n",
    "test_comlete_data[['sales_3_month']]=test_comlete_data[['sales_3_month']].values-test_comlete_data[['sales_1_month']].values\n",
    "\n",
    "test_comlete_data[['sales_6_month']]=test_comlete_data[['sales_6_month']].values-(test_comlete_data[['sales_1_month']].values+test_comlete_data[['sales_3_month']].values)\n",
    "\n",
    "\n",
    "test_comlete_data[['sales_9_month']]=test_comlete_data[['sales_9_month']].values-(test_comlete_data[['sales_1_month']].values+test_comlete_data[['sales_6_month']].values+test_comlete_data[['sales_3_month']].values)\n"
   ]
  },
  {
   "cell_type": "code",
   "execution_count": 126,
   "metadata": {
    "collapsed": true
   },
   "outputs": [],
   "source": [
    "# Write the cleaned train data to local disk\n",
    "train_comlete_data.to_csv(path_or_buf ='C:\\\\Users\\\\liuwe\\\\Google Drive\\\\Emory MSBA\\\\Machine Learning 2\\\\Final Project\\\\clean_train.csv',index = False)"
   ]
  },
  {
   "cell_type": "code",
   "execution_count": 121,
   "metadata": {
    "collapsed": true
   },
   "outputs": [],
   "source": [
    "# Write the cleaned test data to local disk\n",
    "test_comlete_data.to_csv(path_or_buf ='C:\\\\Users\\\\liuwe\\\\Google Drive\\\\Emory MSBA\\\\Machine Learning 2\\\\Final Project\\\\clean_test.csv',index = False)"
   ]
  },
  {
   "cell_type": "markdown",
   "metadata": {},
   "source": [
    "## Exploratory Data Analysis"
   ]
  },
  {
   "cell_type": "code",
   "execution_count": 109,
   "metadata": {},
   "outputs": [
    {
     "data": {
      "text/plain": [
       "<function matplotlib.pyplot.show>"
      ]
     },
     "execution_count": 109,
     "metadata": {},
     "output_type": "execute_result"
    },
    {
     "data": {
      "image/png": "[encoded data removed]",
      "text/plain": [
       "<matplotlib.figure.Figure at 0x23b2c61d198>"
      ]
     },
     "metadata": {},
     "output_type": "display_data"
    }
   ],
   "source": [
    "%matplotlib inline \n",
    "train_comlete_data.hist(bins=50,figsize=(20,15))\n",
    "pyplot.show"
   ]
  },
  {
   "cell_type": "markdown",
   "metadata": {},
   "source": [
    "Our variables are not highly related besides similar measurements such as sales_3_month vs sales_6_month. Therefore no obvious need for complecated feature engineering/selections."
   ]
  },
  {
   "cell_type": "code",
   "execution_count": 110,
   "metadata": {},
   "outputs": [
    {
     "data": {
      "image/png": "[encoded data removed]",
      "text/plain": [
       "<matplotlib.figure.Figure at 0x23b00f98e10>"
      ]
     },
     "metadata": {},
     "output_type": "display_data"
    }
   ],
   "source": [
    "import seaborn as sns\n",
    "\n",
    "corr = train_comlete_data.corr() # We already examined SalePrice correlations\n",
    "\n",
    "sns.heatmap(corr, \n",
    "            cmap='viridis', vmax=1.0, vmin=0, linewidths=0.1,\n",
    "            annot=True, annot_kws={\"size\": 8}, square=True);"
   ]
  },
  {
   "cell_type": "markdown",
   "metadata": {},
   "source": [
    "Our data is very imbalanced, which will create huge problem for modeling. We'll address this problem by over-sampling."
   ]
  },
  {
   "cell_type": "code",
   "execution_count": 112,
   "metadata": {},
   "outputs": [
    {
     "data": {
      "image/png": "[encoded data removed]",
      "text/plain": [
       "<matplotlib.figure.Figure at 0x23b00ec6860>"
      ]
     },
     "metadata": {},
     "output_type": "display_data"
    }
   ],
   "source": [
    "train_comlete_data['went_on_backorder'].value_counts().plot(kind=\"bar\")\n",
    "pyplot.title('Back_Order_Distribution')\n",
    "pyplot.ylabel('Number')\n",
    "pyplot.show()\n"
   ]
  },
  {
   "cell_type": "markdown",
   "metadata": {},
   "source": [
    "## Building Models"
   ]
  },
  {
   "cell_type": "code",
   "execution_count": 127,
   "metadata": {
    "collapsed": true
   },
   "outputs": [],
   "source": [
    "y = train_comlete_data.went_on_backorder\n",
    "train_comlete_data = train_comlete_data.drop(labels = 'went_on_backorder',axis = 1)\n",
    "X_train, X_validation, y_train, y_validation = train_test_split(\n",
    "    train_comlete_data, y, test_size = 0.3, random_state = 42)"
   ]
  },
  {
   "cell_type": "code",
   "execution_count": null,
   "metadata": {
    "collapsed": true
   },
   "outputs": [],
   "source": [
    "#train_comlete_data = pd.read_csv(\"C:\\\\Users\\phani\\Desktop\\\\ML2\\\\clean_train.csv\",low_memory=False)\n",
    "#test_comlete_data  = pd.read_csv(\"C:\\\\Users\\phani\\Desktop\\\\ML2\\\\clean_test.csv\",low_memory=False)"
   ]
  },
  {
   "cell_type": "code",
   "execution_count": 128,
   "metadata": {
    "collapsed": true
   },
   "outputs": [],
   "source": [
    "#Shuffle dataset\n",
    "train_comlete_data = train_comlete_data.sample(frac = 1)"
   ]
  },
  {
   "cell_type": "markdown",
   "metadata": {},
   "source": [
    "Since the dataset is quite large and running models can take a long time, I took a smaller subset and played around with it before I started the actual predictions."
   ]
  },
  {
   "cell_type": "code",
   "execution_count": 132,
   "metadata": {
    "collapsed": true
   },
   "outputs": [],
   "source": [
    "try_set_x = train_comlete_data.iloc[0:150000]"
   ]
  },
  {
   "cell_type": "code",
   "execution_count": 133,
   "metadata": {
    "collapsed": true
   },
   "outputs": [],
   "source": [
    "from sklearn.model_selection import train_test_split\n",
    "try_label = y[0:150000]\n",
    "\n",
    "try_x_train, try_x_test, try_y_train, try_y_test = train_test_split(\n",
    "    try_set_x, try_label, test_size=0.3, random_state=42)"
   ]
  },
  {
   "cell_type": "code",
   "execution_count": 13,
   "metadata": {
    "collapsed": true
   },
   "outputs": [],
   "source": [
    "from sklearn.metrics import roc_auc_score,accuracy_score, confusion_matrix, f1_score,recall_score\n",
    "from sklearn.linear_model import LogisticRegression \n",
    "from sklearn.neural_network import MLPClassifier\n",
    "from sklearn.neighbors import KNeighborsClassifier\n",
    "from sklearn.ensemble import AdaBoostClassifier\n",
    "def create_classifier(classifier, n):\n",
    "    if(classifier == 'random_forest'):\n",
    "        clf = RandomForestClassifier(n_estimators = n, random_state = 52)\n",
    "    elif (classifier == 'logistic'):\n",
    "        clf = LogisticRegression(C=n)\n",
    "    elif (classifier == 'nnet') :\n",
    "        clf = MLPClassifier(hidden_layer_sizes = (n,),alpha = 0.1)\n",
    "    elif (classifier == 'adaboost'):\n",
    "        clf = AdaBoostClassifier(n_estimators = n, random_state = 52)\n",
    "    elif (classifier=='knn'):\n",
    "        clf = KNeighborsClassifier(n_neighbors = n,leaf_size=50)\n",
    "    return clf\n",
    "\n",
    "def classification_with_metrics ( x_train_1, y_train_1, x_test,y_test,metric = 'auc',classifier = 'random_forest',\n",
    "                                 range_list=[]) :\n",
    "    x_train, x_val, y_train, y_val = train_test_split(\n",
    "    x_train_1, y_train_1, test_size=0.25, random_state=42)\n",
    "    performance_list = []\n",
    "    for i in range_list:\n",
    "        #keeps track of progress\n",
    "        print(i)\n",
    "        clf = create_classifier(classifier, i)\n",
    "        clf_model = clf.fit(X = x_train, y = y_train)\n",
    "        clf_pred_prob = clf_model.predict_proba(x_val)[:,1]\n",
    "        if(metric == 'auc'):\n",
    "            clf_score = roc_auc_score(y_true = y_val, y_score = clf_pred_prob)\n",
    "        elif(metric == 'f1'):\n",
    "            clf_pred_class = clf_model.predict(x_val)\n",
    "            clf_score = f1_score(y_true = y_val, y_pred = clf_pred_class)\n",
    "        elif(metric == 'recall'):\n",
    "            clf_pred_class = clf_model.predict(x_val)\n",
    "            c_matrix = confusion_matrix(y_true = y_val, y_pred = clf_pred_class\n",
    "                                        ,labels = [1,0])\n",
    "            clf_score = c_matrix[0,0]/(c_matrix[0,0]+c_matrix[0,1])\n",
    "        performance_list.append(clf_score)\n",
    "\n",
    "   \n",
    "    best_n = range_list[performance_list.index(max(performance_list))]\n",
    "\n",
    "    clf_best = create_classifier(classifier, best_n)\n",
    "    \n",
    "    clf_model_best = clf_best.fit(X = x_train_1, y = y_train_1)\n",
    "    clf_pred_prob = clf_model_best.predict_proba(x_test)[:,1]\n",
    "    clf_pred = clf_model_best.predict(x_test)\n",
    "    \n",
    "    \n",
    "    auc_score = roc_auc_score(y_true = y_test, y_score = clf_pred_prob)\n",
    "    f1_Score = f1_score(y_true = y_test, y_pred = clf_pred)\n",
    "    c_matrix = confusion_matrix(y_true = y_test, y_pred = clf_pred,labels = [1,0])\n",
    "    recall = clf_score = c_matrix[0,0]/(c_matrix[0,0]+c_matrix[0,1])\n",
    "    accuracy = accuracy_score(y_true = y_test, y_pred = clf_pred)\n",
    "    score = [auc_score,f1_Score,c_matrix,accuracy,recall]\n",
    "    \n",
    "    return [best_n,clf_model_best,score,clf_pred,clf_pred_prob]"
   ]
  },
  {
   "cell_type": "markdown",
   "metadata": {},
   "source": [
    "## Actual prediction"
   ]
  },
  {
   "cell_type": "markdown",
   "metadata": {},
   "source": [
    "We began our actual prediction starting from here. "
   ]
  },
  {
   "cell_type": "code",
   "execution_count": 4,
   "metadata": {},
   "outputs": [],
   "source": [
    "train_comlete_data = pd.read_csv(\"C:\\\\Users\\\\liuwe\\\\Google Drive\\\\Emory MSBA\\\\Machine Learning 2\\\\Final Project\\\\clean_train.csv\",low_memory=False)\n",
    "test_comlete_data  = pd.read_csv(\"C:\\\\Users\\\\liuwe\\\\Google Drive\\\\Emory MSBA\\\\Machine Learning 2\\\\Final Project\\\\clean_test.csv\",low_memory=False)"
   ]
  },
  {
   "cell_type": "markdown",
   "metadata": {},
   "source": [
    "Sample positive instances with replacement in order to balance our dataset."
   ]
  },
  {
   "cell_type": "code",
   "execution_count": 7,
   "metadata": {
    "collapsed": true
   },
   "outputs": [],
   "source": [
    "train_backorder_index = train_comlete_data.index[train_comlete_data['went_on_backorder']>0].tolist()\n",
    "train_backorder = train_comlete_data.loc[train_backorder_index]\n",
    "\n",
    "train_nobackorder_index = train_comlete_data.index[train_comlete_data['went_on_backorder']==0].tolist()\n",
    "train_nobackorder =train_comlete_data.loc[train_nobackorder_index]\n",
    "\n",
    "train_oversample_backorder = train_backorder.sample(frac = 40,replace = True)\n",
    "train_oversampled = pd.concat([train_oversample_backorder,train_nobackorder]).sample(frac = 1)"
   ]
  },
  {
   "cell_type": "code",
   "execution_count": 8,
   "metadata": {
    "collapsed": true
   },
   "outputs": [],
   "source": [
    "oversampled_train_label = train_oversampled.went_on_backorder\n",
    "train_oversampled_x = train_oversampled.drop(labels = 'went_on_backorder', axis = 1)\n",
    "\n",
    "final_test_label = test_comlete_data.went_on_backorder\n",
    "final_test_x = test_comlete_data.drop(labels = 'went_on_backorder', axis = 1)"
   ]
  },
  {
   "cell_type": "code",
   "execution_count": 9,
   "metadata": {},
   "outputs": [
    {
     "data": {
      "text/plain": [
       "(2062976,)"
      ]
     },
     "execution_count": 9,
     "metadata": {},
     "output_type": "execute_result"
    }
   ],
   "source": [
    "oversampled_train_label.shape"
   ]
  },
  {
   "cell_type": "markdown",
   "metadata": {},
   "source": [
    "Right now, the positive class is at about 26%"
   ]
  },
  {
   "cell_type": "code",
   "execution_count": 10,
   "metadata": {},
   "outputs": [
    {
     "data": {
      "text/plain": [
       "0.0    1635296\n",
       "1.0     427680\n",
       "Name: went_on_backorder, dtype: int64"
      ]
     },
     "execution_count": 10,
     "metadata": {},
     "output_type": "execute_result"
    }
   ],
   "source": [
    "oversampled_train_label.value_counts()"
   ]
  },
  {
   "cell_type": "code",
   "execution_count": 11,
   "metadata": {},
   "outputs": [
    {
     "data": {
      "text/plain": [
       "294710.85714285716"
      ]
     },
     "execution_count": 11,
     "metadata": {},
     "output_type": "execute_result"
    }
   ],
   "source": [
    "#Decides to divide the entire dataset into 7 smaller subsets\n",
    "final_interval = oversampled_train_label.shape[0]/7\n",
    "final_interval"
   ]
  },
  {
   "cell_type": "code",
   "execution_count": 18,
   "metadata": {
    "collapsed": true
   },
   "outputs": [],
   "source": [
    "def ensemble_final(x_train,y_train,x_test,y_test,interval, classifier,metric,range_list=[]):\n",
    "    result_lists = [[]]\n",
    "    for i in range (0,7) :\n",
    "        \n",
    "        start_index = i*interval\n",
    "        end_index = (i+1)*interval+1\n",
    "        temp_train_x = x_train.iloc[start_index:(end_index),:]\n",
    "        temp_train_y = y_train.iloc[start_index:(end_index)]\n",
    "        result_lists = result_lists + [classification_with_metrics(x_train_1 = temp_train_x, x_test = x_test, \n",
    "                                                  y_train_1 = temp_train_y, y_test =y_test,metric = metric,\n",
    "                                                    range_list =range_list ,classifier = classifier)]\n",
    "    return result_lists"
   ]
  },
  {
   "cell_type": "code",
   "execution_count": null,
   "metadata": {},
   "outputs": [],
   "source": [
    "final_result_onlyada = ensemble_final(train_oversampled_x,oversampled_train_label,final_test_x, \n",
    "                                      final_test_label, 277984,'adaboost','auc',range(15,30))\n",
    "final_result_onlyada = final_result_onlyada[1:]"
   ]
  },
  {
   "cell_type": "code",
   "execution_count": 24,
   "metadata": {
    "collapsed": true
   },
   "outputs": [],
   "source": [
    "def get_ensembled_proba(na_result_lists):    \n",
    "    sum_pred = np.array(na_result_lists[0][4])\n",
    "    for i in na_result_lists[1:] :\n",
    "        sum_pred = sum_pred + np.array(i[4])\n",
    "    return sum_pred/7\n"
   ]
  },
  {
   "cell_type": "code",
   "execution_count": 25,
   "metadata": {},
   "outputs": [],
   "source": [
    "ada_proba = get_ensembled_proba(final_result_onlyada)"
   ]
  },
  {
   "cell_type": "code",
   "execution_count": 26,
   "metadata": {
    "collapsed": true
   },
   "outputs": [],
   "source": [
    "ada_auc = roc_auc_score(y_true = final_test_label, y_score = ada_proba)"
   ]
  },
  {
   "cell_type": "code",
   "execution_count": 27,
   "metadata": {},
   "outputs": [
    {
     "data": {
      "text/plain": [
       "0.92791686532855933"
      ]
     },
     "execution_count": 27,
     "metadata": {},
     "output_type": "execute_result"
    }
   ],
   "source": [
    "ada_auc"
   ]
  },
  {
   "cell_type": "markdown",
   "metadata": {},
   "source": [
    "Try to use neural network"
   ]
  },
  {
   "cell_type": "code",
   "execution_count": null,
   "metadata": {},
   "outputs": [],
   "source": [
    "final_result_onlynn = ensemble_final(train_oversampled_x,oversampled_train_label,final_test_x, \n",
    "                                      final_test_label, 277984,'nnet','auc',range(90,120))\n",
    "final_result_onlynn = final_result_onlynn[1:]"
   ]
  },
  {
   "cell_type": "code",
   "execution_count": 29,
   "metadata": {},
   "outputs": [
    {
     "data": {
      "text/plain": [
       "0.92654261968277796"
      ]
     },
     "execution_count": 29,
     "metadata": {},
     "output_type": "execute_result"
    }
   ],
   "source": [
    "nn_proba = get_ensembled_proba(final_result_onlynn)\n",
    "nn_auc = roc_auc_score(y_true = final_test_label, y_score = nn_proba)\n",
    "nn_auc"
   ]
  },
  {
   "cell_type": "code",
   "execution_count": 30,
   "metadata": {
    "collapsed": true
   },
   "outputs": [],
   "source": [
    "ada_nn_auc = roc_auc_score(y_true = final_test_label, y_score = (ada_proba*7+nn_proba*7)/14)"
   ]
  },
  {
   "cell_type": "code",
   "execution_count": 35,
   "metadata": {},
   "outputs": [
    {
     "data": {
      "text/plain": [
       "0.93303255884100533"
      ]
     },
     "execution_count": 35,
     "metadata": {},
     "output_type": "execute_result"
    }
   ],
   "source": [
    "ada_nn_auc"
   ]
  },
  {
   "cell_type": "code",
   "execution_count": null,
   "metadata": {},
   "outputs": [],
   "source": [
    "final_result_onlyrf = ensemble_final(train_oversampled_x,oversampled_train_label,final_test_x, \n",
    "                                      final_test_label, 277984,'random_forest','auc',range(15,30))\n",
    "final_result_onlyrf = final_result_onlyrf[1:]"
   ]
  },
  {
   "cell_type": "code",
   "execution_count": 37,
   "metadata": {},
   "outputs": [
    {
     "data": {
      "text/plain": [
       "0.92190998794067869"
      ]
     },
     "execution_count": 37,
     "metadata": {},
     "output_type": "execute_result"
    }
   ],
   "source": [
    "rf_proba = get_ensembled_proba(final_result_onlyrf)\n",
    "rf_auc = roc_auc_score(y_true = final_test_label, y_score = rf_proba)\n",
    "rf_auc"
   ]
  },
  {
   "cell_type": "code",
   "execution_count": 38,
   "metadata": {
    "collapsed": true
   },
   "outputs": [],
   "source": [
    "adannrf_auc = roc_auc_score(y_true = final_test_label, y_score = (ada_proba*7+nn_proba*7+rf_proba*7)/21)"
   ]
  },
  {
   "cell_type": "code",
   "execution_count": 39,
   "metadata": {},
   "outputs": [
    {
     "data": {
      "text/plain": [
       "0.93875976648835124"
      ]
     },
     "execution_count": 39,
     "metadata": {},
     "output_type": "execute_result"
    }
   ],
   "source": [
    "adannrf_auc"
   ]
  },
  {
   "cell_type": "code",
   "execution_count": 40,
   "metadata": {
    "collapsed": true
   },
   "outputs": [],
   "source": [
    "def cut_off(x,n):\n",
    "    if x <= n:\n",
    "        return 0\n",
    "    else :\n",
    "        return 1"
   ]
  },
  {
   "cell_type": "code",
   "execution_count": 41,
   "metadata": {
    "collapsed": true
   },
   "outputs": [],
   "source": [
    "final_proba = (ada_proba*7+nn_proba*7+rf_proba*7)/21\n",
    "default_prediction = np.array([cut_off(x,0.5) for x in final_proba])"
   ]
  },
  {
   "cell_type": "code",
   "execution_count": 42,
   "metadata": {},
   "outputs": [
    {
     "data": {
      "text/plain": [
       "[0.88890548826124594, 0.29994465965688988, array([[   813,   1771],\n",
       "        [  2024, 231381]], dtype=int64), 0.98391874197526152, 0.31462848297213625]"
      ]
     },
     "execution_count": 42,
     "metadata": {},
     "output_type": "execute_result"
    }
   ],
   "source": [
    "final_result_onlyrf[0][2]"
   ]
  },
  {
   "cell_type": "markdown",
   "metadata": {},
   "source": [
    "### Model Evaluation"
   ]
  },
  {
   "cell_type": "code",
   "execution_count": 48,
   "metadata": {},
   "outputs": [],
   "source": [
    "# Function preduces confusion matrix and its visualization\n",
    "from sklearn import metrics\n",
    "import itertools\n",
    "def plot_confusion_matrix(cm, classes,\n",
    "                          normalize=False,\n",
    "                          title='Confusion matrix',\n",
    "                          cmap=plt.cm.Blues):\n",
    "    \"\"\"\n",
    "    This function prints and plots the confusion matrix.\n",
    "    Normalization can be applied by setting `normalize=True`.\n",
    "    \"\"\"\n",
    "    if normalize:\n",
    "        cm = cm.astype('float') / cm.sum(axis=1)[:, np.newaxis]\n",
    "        print(\"Normalized confusion matrix\")\n",
    "    else:\n",
    "        print('Confusion matrix, without normalization')\n",
    "\n",
    "    print(cm)\n",
    "\n",
    "    plt.imshow(cm, interpolation='nearest', cmap=cmap)\n",
    "    plt.title(title)\n",
    "    plt.colorbar()\n",
    "    tick_marks = np.arange(len(classes))\n",
    "    plt.xticks(tick_marks, classes, rotation=45)\n",
    "    plt.yticks(tick_marks, classes)\n",
    "\n",
    "    fmt = '.2f' if normalize else 'd'\n",
    "    thresh = cm.max() / 2.\n",
    "    for i, j in itertools.product(range(cm.shape[0]), range(cm.shape[1])):\n",
    "        plt.text(j, i, format(cm[i, j], fmt),\n",
    "                 horizontalalignment=\"center\",\n",
    "                 color=\"white\" if cm[i, j] > thresh else \"black\")\n",
    "\n",
    "    plt.tight_layout()\n",
    "    plt.ylabel('True label')\n",
    "    plt.xlabel('Predicted label')\n",
    "\n",
    "def Evaluation(y_Valid, y_pred) :\n",
    "    cnf_matrix1 = metrics.confusion_matrix(y_Valid, y_pred)\n",
    "    np.set_printoptions(precision=2)\n",
    "\n",
    "    plt.figure()\n",
    "    plot_confusion_matrix(cnf_matrix1, classes=y_Valid.unique(),\n",
    "                          title='Confusion matrix, without normalization')\n",
    "\n",
    "    # Plot normalized confusion matrix\n",
    "    plt.figure()\n",
    "    plot_confusion_matrix(cnf_matrix1, classes=y_Valid.unique(), normalize=True,\n",
    "                          title='Normalized confusion matrix')\n",
    "\n",
    "    plt.show()\n",
    "\n",
    "    print(metrics.classification_report(y_Valid, y_pred,digits = 4))\n",
    "    \n",
    "    print('Accuracy = ' +str(metrics.accuracy_score(y_Valid, y_pred)))"
   ]
  },
  {
   "cell_type": "code",
   "execution_count": 49,
   "metadata": {},
   "outputs": [
    {
     "name": "stdout",
     "output_type": "stream",
     "text": [
      "Confusion matrix, without normalization\n",
      "[[229231   4174]\n",
      " [  1322   1262]]\n",
      "Normalized confusion matrix\n",
      "[[ 0.98  0.02]\n",
      " [ 0.51  0.49]]\n"
     ]
    },
    {
     "data": {
      "image/png": "[encoded data removed]",
      "text/plain": [
       "<matplotlib.figure.Figure at 0x2020e7964a8>"
      ]
     },
     "metadata": {},
     "output_type": "display_data"
    },
    {
     "data": {
      "image/png": "[encoded data removed]",
      "text/plain": [
       "<matplotlib.figure.Figure at 0x2020e67a160>"
      ]
     },
     "metadata": {},
     "output_type": "display_data"
    },
    {
     "name": "stdout",
     "output_type": "stream",
     "text": [
      "             precision    recall  f1-score   support\n",
      "\n",
      "        0.0     0.9943    0.9821    0.9882    233405\n",
      "        1.0     0.2322    0.4884    0.3147      2584\n",
      "\n",
      "avg / total     0.9859    0.9767    0.9808    235989\n",
      "\n",
      "Accuracy = 0.976710778892\n"
     ]
    }
   ],
   "source": [
    "Evaluation(final_test_label,default_prediction)"
   ]
  },
  {
   "cell_type": "code",
   "execution_count": 50,
   "metadata": {},
   "outputs": [
    {
     "data": {
      "image/png": "[encoded data removed]",
      "text/plain": [
       "<matplotlib.figure.Figure at 0x2020f173f60>"
      ]
     },
     "metadata": {},
     "output_type": "display_data"
    }
   ],
   "source": [
    "#Plots roc curve\n",
    "from sklearn.metrics import roc_curve\n",
    "from sklearn.metrics import auc\n",
    "clf_labels = ['Ensembled', 'adaboost', 'neural_networks','random_forest']\n",
    "colors = [ 'purple', 'blue', 'green','orange']\n",
    "predictions = [final_proba,ada_proba,nn_proba,rf_proba]\n",
    "linestyles = ['-', '--', '-.', ':']\n",
    "for pred, label, clr, ls in zip(predictions,clf_labels, colors, linestyles):\n",
    "\n",
    "    y_pred = pred\n",
    "    fpr, tpr, thresholds = roc_curve(y_true=final_test_label,\n",
    "                                     y_score=y_pred,pos_label=1)\n",
    "    roc_auc = auc(x=fpr, y=tpr)\n",
    "    plt.plot(fpr, tpr,\n",
    "             color=clr,\n",
    "             linestyle=ls,\n",
    "             label='%s (auc = %0.2f)' % (label, roc_auc))\n",
    "\n",
    "plt.legend(loc='lower right')\n",
    "plt.plot([0, 1], [0, 1],\n",
    "         linestyle='--',\n",
    "         color='gray',\n",
    "         linewidth=2)\n",
    "\n",
    "plt.xlim([-0.05, 0.1])\n",
    "plt.ylim([-0.1, 1.1])\n",
    "plt.grid(alpha=0.5)\n",
    "plt.xlabel('False positive rate (FPR)')\n",
    "plt.ylabel('True positive rate (TPR)')\n",
    "plt.title('ROC Curves')\n",
    "plt.show()\n"
   ]
  },
  {
   "cell_type": "markdown",
   "metadata": {},
   "source": [
    "We can also evaluate our model in a cost-sensitive schema and see how different probability thresholds result in different expected profits. The lower the probability is, the higher the risk become because we're making more and more positive predictions with lower likelihood of being positive. In another word, we can see how much profit our model could bring depending on how much risk we'd like to take. Essentially this comes down to the user's business strategy. For example if a retailer cares more about maximizing customer experience, the owner will take more risk and order more items that are not very likely to get backorders. For a business that sells perishable items, however, it'll be more conservative and only want to make positive predictions when probability is high. This is because if a perishable item is not sold within a given time frame, it'll bring a negative profit value."
   ]
  },
  {
   "cell_type": "code",
   "execution_count": 51,
   "metadata": {
    "collapsed": true
   },
   "outputs": [],
   "source": [
    "p_threshold = np.linspace(0,1,num = 100)\n",
    "#Suppose this is our cost-benefit matrix\n",
    "cost_matrix = np.matrix([[500,-30],[-10,0]])\n",
    "\n",
    "expected_value = np.array([])\n",
    "for i in p_threshold:\n",
    "    temp_prediction = [cut_off(x,i) for x in final_proba]\n",
    "    cm = confusion_matrix(final_test_label,temp_prediction,labels = [1,0])\n",
    "    result = np.sum(np.multiply(cm,cost_matrix))\n",
    "    expected_value = np.append(expected_value,[result])"
   ]
  },
  {
   "cell_type": "code",
   "execution_count": 52,
   "metadata": {},
   "outputs": [
    {
     "data": {
      "image/png": "[encoded data removed]",
      "text/plain": [
       "<matplotlib.figure.Figure at 0x2020e35ea90>"
      ]
     },
     "metadata": {},
     "output_type": "display_data"
    }
   ],
   "source": [
    "plt.plot(p_threshold, expected_value, 'b--')\n",
    "plt.title('Expected revenue Vs Probability threshold')\n",
    "plt.xlabel('P_threshold')\n",
    "plt.ylabel('revenue')\n",
    "plt.show()"
   ]
  },
  {
   "cell_type": "code",
   "execution_count": null,
   "metadata": {
    "collapsed": true
   },
   "outputs": [],
   "source": []
  }
 ],
 "metadata": {
  "kernelspec": {
   "display_name": "Python 3",
   "language": "python",
   "name": "python3"
  },
  "language_info": {
   "codemirror_mode": {
    "name": "ipython",
    "version": 3
   },
   "file_extension": ".py",
   "mimetype": "text/x-python",
   "name": "python",
   "nbconvert_exporter": "python",
   "pygments_lexer": "ipython3",
   "version": "3.6.3"
  }
 },
 "nbformat": 4,
 "nbformat_minor": 2
}
